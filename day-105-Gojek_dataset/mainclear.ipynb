{
 "cells": [
  {
   "cell_type": "markdown",
   "id": "3ed7d6da-4d54-4c0f-a321-69d3be6cfb2c",
   "metadata": {},
   "source": [
    "# Import Dataset"
   ]
  },
  {
   "cell_type": "code",
   "execution_count": null,
   "id": "1338c5ba-37a8-4034-98b9-da106b0b2d34",
   "metadata": {},
   "outputs": [],
   "source": [
    "import pandas as pd\n",
    "import matplotlib.pyplot as plt\n",
    "import plotly.express as px\n",
    "import seaborn as sns\n",
    "import numpy as np\n",
    "from wordcloud import WordCloud\n",
    "import nltk\n",
    "from nltk.corpus import stopwords\n",
    "from nltk.tokenize import word_tokenize\n",
    "import re\n",
    "from Sastrawi.Stemmer.StemmerFactory import StemmerFactory\n",
    "from Sastrawi.StopWordRemover.StopWordRemoverFactory import StopWordRemoverFactory\n",
    "import nltk\n",
    "from sklearn.feature_extraction.text import TfidfVectorizer"
   ]
  },
  {
   "cell_type": "code",
   "execution_count": null,
   "id": "0910714e-286d-4e5c-bddb-f27e60f6b853",
   "metadata": {},
   "outputs": [],
   "source": [
    "df = pd.read_csv(\"gojek.csv\", low_memory=False)\n",
    "df.head()"
   ]
  },
  {
   "cell_type": "code",
   "execution_count": null,
   "id": "1311be90-fda2-47d5-961c-b8fd143d91a8",
   "metadata": {},
   "outputs": [],
   "source": [
    "df.info()"
   ]
  },
  {
   "cell_type": "code",
   "execution_count": null,
   "id": "d6ed1d7a-f9ad-48ee-b470-f4ff5e62432e",
   "metadata": {},
   "outputs": [],
   "source": [
    "df.isna().sum()"
   ]
  },
  {
   "cell_type": "code",
   "execution_count": null,
   "id": "80889196-09b1-41c9-9cf9-f319f2bd0e74",
   "metadata": {},
   "outputs": [],
   "source": [
    "df['userName'].unique()"
   ]
  },
  {
   "cell_type": "code",
   "execution_count": null,
   "id": "2920bfa5-5841-43fd-b12c-ae858ee23309",
   "metadata": {},
   "outputs": [],
   "source": [
    "df['score'].unique()"
   ]
  },
  {
   "cell_type": "code",
   "execution_count": null,
   "id": "00b34960",
   "metadata": {},
   "outputs": [],
   "source": [
    "df.duplicated().sum()"
   ]
  },
  {
   "cell_type": "markdown",
   "id": "b7f5672f-bd70-4896-9b43-714a05f6780d",
   "metadata": {},
   "source": [
    "# Data Cleaning"
   ]
  },
  {
   "cell_type": "code",
   "execution_count": null,
   "id": "067e57c9-fb09-40d3-87a0-877b1a4a81e0",
   "metadata": {},
   "outputs": [],
   "source": [
    "df = df[['content', 'score', 'thumbsUpCount', 'at']]\n",
    "df['at'] = pd.to_datetime(df['at'])\n",
    "df['month'] = df['at'].dt.to_period('M')\n",
    "df.head()"
   ]
  },
  {
   "cell_type": "code",
   "execution_count": null,
   "id": "71c6f853-c008-4e08-90b1-7709383b3a98",
   "metadata": {},
   "outputs": [],
   "source": [
    "df1 = df[:20000]"
   ]
  },
  {
   "cell_type": "code",
   "execution_count": null,
   "id": "0dcceac7",
   "metadata": {},
   "outputs": [],
   "source": [
    "# Inisialisasi stemmer dan stopword remover dari Sastrawi\n",
    "stemmer_factory = StemmerFactory()\n",
    "stemmer = stemmer_factory.create_stemmer()\n",
    "\n",
    "stopword_factory = StopWordRemoverFactory()\n",
    "stopword_remover = stopword_factory.create_stop_word_remover()\n",
    "\n",
    "# Daftar stopwords kustom\n",
    "custom_stopwords = ['nya', 'aplikasi', 'yg', 'yang', 'gak', 'driver']\n",
    "\n",
    "# Fungsi untuk stemming dan stopword removal\n",
    "def process_text(text):\n",
    "    # Hapus stopwords bawaan Sastrawi\n",
    "    text_no_stopwords = stopword_remover.remove(text)\n",
    "    \n",
    "    # Hapus stopwords kustom\n",
    "    words = text_no_stopwords.split()\n",
    "    filtered_words = [word for word in words if word.lower() not in custom_stopwords]\n",
    "    text_no_custom_stopwords = ' '.join(filtered_words)\n",
    "    \n",
    "    # Lakukan stemming\n",
    "    stemmed_text = stemmer.stem(text_no_custom_stopwords)\n",
    "    return stemmed_text\n",
    "\n",
    "# Terapkan proses pada kolom 'content'\n",
    "df1['content_processed'] = df1['content'].apply(process_text)\n",
    "\n",
    "# Tampilkan hasil\n",
    "print(df)"
   ]
  },
  {
   "cell_type": "code",
   "execution_count": null,
   "id": "5a706dd8",
   "metadata": {},
   "outputs": [],
   "source": [
    "df1"
   ]
  },
  {
   "cell_type": "markdown",
   "id": "c623c1b4-34f2-4087-b0e0-414863053b74",
   "metadata": {},
   "source": [
    "# EDA"
   ]
  },
  {
   "cell_type": "code",
   "execution_count": null,
   "id": "eabc01b5-2205-43af-8fc9-116dcd8d29e1",
   "metadata": {},
   "outputs": [],
   "source": [
    "fig = px.pie(df, names='score', title='Distribusi Rating Gojek', color='score',\n",
    "             color_discrete_sequence=px.colors.qualitative.Pastel)\n",
    "fig.update_traces(textinfo='percent+label')\n",
    "fig.show()"
   ]
  },
  {
   "cell_type": "code",
   "execution_count": null,
   "id": "2e818425",
   "metadata": {},
   "outputs": [],
   "source": [
    "# Comment dengan thumbsUpCount terbanyak\n",
    "df['content'].iloc[df['thumbsUpCount'].idxmax()]"
   ]
  },
  {
   "cell_type": "code",
   "execution_count": null,
   "id": "66958f3b",
   "metadata": {},
   "outputs": [],
   "source": [
    "# jumlah comment per bulan\n",
    "monthly_comment = df['month'].groupby(df['month']).count()\n",
    "monthly_comment\n",
    "\n"
   ]
  },
  {
   "cell_type": "code",
   "execution_count": null,
   "id": "40fe9ef9",
   "metadata": {},
   "outputs": [],
   "source": [
    "#line chart jumlah comment per bulan\n",
    "plt.figure(figsize=(12, 6))\n",
    "monthly_comment.plot(kind='line')\n",
    "plt.title('Jumlah Komentar per Bulan')\n",
    "plt.xlabel('Bulan')\n",
    "plt.ylabel('Jumlah Komentar')\n",
    "plt.xticks(rotation=45)\n",
    "plt.grid(True)\n",
    "plt.show()"
   ]
  },
  {
   "cell_type": "markdown",
   "id": "68bfe98f",
   "metadata": {},
   "source": [
    "Puncak tertinggi terjadi sekitar 2019 sampai 2020, dengan jumlah komentar mencapai hampir 60,000 per bulan. Ini bisa mencerminkan periode aktivitas pengguna yang sangat tinggi, mungkin karena promosi besar, peningkatan penggunaan layanan selama pandemi COVID-19 (misalnya, lebih banyak orang menggunakan layanan pengiriman), atau peluncuran fitur baru yang memicu banyak diskusi."
   ]
  },
  {
   "cell_type": "markdown",
   "id": "4eb2626b",
   "metadata": {},
   "source": [
    "# Sentimen Analysis"
   ]
  },
  {
   "cell_type": "code",
   "execution_count": null,
   "id": "7327ed33-d528-4c85-a839-6f70c73af8a1",
   "metadata": {},
   "outputs": [],
   "source": [
    "# Distribusi score\n",
    "score_distribution = df1.groupby('score').size()\n",
    "print(\"Distribusi Score:\\n\", score_distribution)\n",
    "\n",
    "# Kata-kata yang sering muncul untuk setiap score\n",
    "from collections import Counter\n",
    "for score in df1['score'].unique():\n",
    "    words = ' '.join(df1[df1['score'] == score]['content_processed']).split()\n",
    "    word_freq = Counter(words).most_common(10)\n",
    "    print(f\"\\nKata yang sering muncul untuk score {score}:\")\n",
    "    print(word_freq)"
   ]
  },
  {
   "cell_type": "markdown",
   "id": "3a15eda9",
   "metadata": {},
   "source": [
    "## Insight:\n",
    "Kepuasan Pengguna (Skor 5 dan 4)\n",
    "- Mayoritas ulasan masih memberikan skor 5, menunjukkan\n",
    "tingkat kepuasan pengguna yang sangat tinggi secara keseluruhan.\n",
    "- Skor 4 juga menunjukkan kepuasan dengan sedikit kritik ringan, mirip dengan dataset sebelumnya.\n",
    "- Kata \"cepat\" dan \"mudah\" menunjukkan bahwa kecepatan dan kemudahan layanan menjadi nilai tambah yang signifikan.\n",
    "- rekomendasi:\n",
    "Pertahankan kecepatan dan kemudahan layanan, karena ini menjadi alasan utama kepuasan.\n",
    "Promosikan fitur-fitur yang dianggap \"membantu\" untuk mempertahankan loyalitas pengguna.\n",
    "\n",
    "Ketidakpuasan Pengguna (Skor 1 dan 2)\n",
    "- Skor 1 menunjukkan keluhan utama terkait keterlambatan (\"lama\"), proses pemesanan (\"pesan\").\n",
    "- Skor 2 juga mengeluhkan keterlambatan (\"lama\"), masalah pemesanan (\"pesan\" 8 kali).\n",
    "- Rekomendasi:\n",
    "Prioritaskan peningkatan kecepatan layanan, terutama untuk pengiriman atau respons (misalnya, optimasi rute driver atau sistem antrian).\n",
    "Perbaiki sistem pemesanan (GoFood, GoRide, dll.) untuk mengurangi masalah seperti keterlambatan atau pesanan yang tidak terproses (\"pesan\").\n",
    "\n",
    "Pengguna Netral (Skor 3)\n",
    "- Skor 3 menunjukkan campuran pujian dan kritik, dengan fokus pada keterlambatan (\"lama\") dan pengalaman pemesanan makanan (\"makan\").\n",
    "- Tingkatkan layanan GoFood dengan mempercepat pengiriman makanan, karena \"makan\" dan \"lama\" sering muncul."
   ]
  },
  {
   "cell_type": "code",
   "execution_count": null,
   "id": "f3fbedf1",
   "metadata": {},
   "outputs": [],
   "source": [
    "for score in range(5, 0, -1):\n",
    "    # Ambil teks dari 'content_processed' untuk skor tertentu\n",
    "    text = ' '.join(df1[df1['score'] == score]['content_processed'].dropna())\n",
    "    \n",
    "    # Buat word cloud\n",
    "    wordcloud = WordCloud(width=800, height=400, background_color='white',\n",
    "                         min_font_size=10).generate(text)\n",
    "    \n",
    "    # Tampilkan word cloud\n",
    "    plt.figure(figsize=(10, 5))\n",
    "    plt.imshow(wordcloud, interpolation='bilinear')\n",
    "    plt.axis('off')\n",
    "    plt.title(f'Word Cloud untuk Skor {score}')\n",
    "    plt.show()"
   ]
  },
  {
   "cell_type": "code",
   "execution_count": null,
   "id": "3dbc45d6",
   "metadata": {},
   "outputs": [],
   "source": [
    "import pandas as pd\n",
    "import numpy as np\n",
    "from sklearn.feature_extraction.text import TfidfVectorizer\n",
    "from sklearn.model_selection import train_test_split, GridSearchCV\n",
    "from sklearn.svm import SVC\n",
    "from sklearn.metrics import classification_report\n",
    "from imblearn.over_sampling import SMOTE\n",
    "import joblib\n",
    "\n",
    "#Buat label sentimen\n",
    "def label_sentiment(score):\n",
    "    if score >= 4:\n",
    "        return 'positif'\n",
    "    elif score == 3:\n",
    "        return 'netral'\n",
    "    else:\n",
    "        return 'negatif'\n",
    "\n",
    "df1['sentiment'] = df1['score'].apply(label_sentiment)\n",
    "\n",
    "#Ekstraksi fitur dengan TF-IDF\n",
    "vectorizer = TfidfVectorizer(max_features=2000, ngram_range=(1, 2))  # Unigram dan bigram\n",
    "X = vectorizer.fit_transform(df1['content_processed'])\n",
    "y = df1['sentiment']\n",
    "\n",
    "# Seimbangkan data dengan SMOTE\n",
    "smote = SMOTE(random_state=42)\n",
    "X_resampled, y_resampled = smote.fit_resample(X, y)\n",
    "\n",
    "# Split data\n",
    "X_train, X_test, y_train, y_test = train_test_split(X_resampled, y_resampled, test_size=0.2, random_state=42)\n",
    "\n",
    "# Optimasi model SVM dengan Grid Search\n",
    "param_grid = {\n",
    "    'C': [0.1, 1, 10],  # Parameter regularisasi\n",
    "    'kernel': ['linear', 'rbf'],  # Jenis kernel\n",
    "    'class_weight': ['balanced', None]  # Penanganan data tidak seimbang\n",
    "}\n",
    "\n",
    "model = SVC(random_state=42)\n",
    "grid_search = GridSearchCV(model, param_grid, cv=5, scoring='f1_macro', n_jobs=-1)\n",
    "grid_search.fit(X_train, y_train)\n",
    "\n",
    "# Tampilkan parameter terbaik\n",
    "print(\"Parameter Terbaik:\", grid_search.best_params_)\n",
    "print(\"Skor Terbaik (F1 Macro):\", grid_search.best_score_)\n",
    "\n",
    "# Evaluasi model terbaik pada data uji\n",
    "best_model = grid_search.best_estimator_\n",
    "y_pred = best_model.predict(X_test)\n",
    "print(\"\\nLaporan Klasifikasi untuk Model Teroptimasi:\")\n",
    "print(classification_report(y_test, y_pred))\n",
    "\n",
    "# Simpan model dan vectorizer\n",
    "joblib.dump(best_model, 'optimized_sentiment_model.pkl')\n",
    "joblib.dump(vectorizer, 'optimized_tfidf_vectorizer.pkl')\n",
    "\n",
    "# Uji prediksi pada ulasan baru\n",
    "def predict_sentiment(new_review):\n",
    "    new_review_tfidf = vectorizer.transform([new_review])\n",
    "    prediction = best_model.predict(new_review_tfidf)[0]\n",
    "    return prediction\n"
   ]
  },
  {
   "cell_type": "code",
   "execution_count": null,
   "id": "2e88bfec",
   "metadata": {},
   "outputs": [],
   "source": [
    "new_reviews = [\"layanan sangat lambat\", \"gojek sangat membantu\", \"cukup baik tapi kadang lama\"]\n",
    "for review in new_reviews:\n",
    "    sentiment = predict_sentiment(review)\n",
    "    print(f\"Ulasan: '{review}' -> Sentimen: {sentiment}\")"
   ]
  },
  {
   "cell_type": "code",
   "execution_count": null,
   "id": "839968a5",
   "metadata": {},
   "outputs": [],
   "source": []
  }
 ],
 "metadata": {
  "kernelspec": {
   "display_name": "Python 3",
   "language": "python",
   "name": "python3"
  },
  "language_info": {
   "codemirror_mode": {
    "name": "ipython",
    "version": 3
   },
   "file_extension": ".py",
   "mimetype": "text/x-python",
   "name": "python",
   "nbconvert_exporter": "python",
   "pygments_lexer": "ipython3",
   "version": "3.12.7"
  }
 },
 "nbformat": 4,
 "nbformat_minor": 5
}
