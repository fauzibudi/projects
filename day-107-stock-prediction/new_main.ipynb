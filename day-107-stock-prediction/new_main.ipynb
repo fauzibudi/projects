{
 "cells": [
  {
   "cell_type": "code",
   "execution_count": 132,
   "id": "6ba9ec0f",
   "metadata": {},
   "outputs": [],
   "source": [
    "import pandas as pd\n",
    "import numpy as np\n",
    "import matplotlib.pyplot as plt"
   ]
  },
  {
   "cell_type": "code",
   "execution_count": 133,
   "id": "0194c541",
   "metadata": {},
   "outputs": [
    {
     "data": {
      "text/html": [
       "<div>\n",
       "<style scoped>\n",
       "    .dataframe tbody tr th:only-of-type {\n",
       "        vertical-align: middle;\n",
       "    }\n",
       "\n",
       "    .dataframe tbody tr th {\n",
       "        vertical-align: top;\n",
       "    }\n",
       "\n",
       "    .dataframe thead th {\n",
       "        text-align: right;\n",
       "    }\n",
       "</style>\n",
       "<table border=\"1\" class=\"dataframe\">\n",
       "  <thead>\n",
       "    <tr style=\"text-align: right;\">\n",
       "      <th></th>\n",
       "      <th>Date</th>\n",
       "      <th>Open</th>\n",
       "      <th>High</th>\n",
       "      <th>Low</th>\n",
       "      <th>Close</th>\n",
       "      <th>Volume</th>\n",
       "      <th>Dividends</th>\n",
       "      <th>Stock Splits</th>\n",
       "      <th>Brand_Name</th>\n",
       "      <th>Ticker</th>\n",
       "      <th>Industry_Tag</th>\n",
       "      <th>Country</th>\n",
       "      <th>Capital Gains</th>\n",
       "    </tr>\n",
       "  </thead>\n",
       "  <tbody>\n",
       "    <tr>\n",
       "      <th>0</th>\n",
       "      <td>2025-05-16 00:00:00-04:00</td>\n",
       "      <td>6.320000</td>\n",
       "      <td>6.435400</td>\n",
       "      <td>6.220000</td>\n",
       "      <td>6.340000</td>\n",
       "      <td>12087274.0</td>\n",
       "      <td>0.0</td>\n",
       "      <td>0.0</td>\n",
       "      <td>peloton</td>\n",
       "      <td>PTON</td>\n",
       "      <td>fitness</td>\n",
       "      <td>usa</td>\n",
       "      <td>NaN</td>\n",
       "    </tr>\n",
       "    <tr>\n",
       "      <th>1</th>\n",
       "      <td>2025-05-16 00:00:00-04:00</td>\n",
       "      <td>118.070000</td>\n",
       "      <td>118.239998</td>\n",
       "      <td>116.010002</td>\n",
       "      <td>117.169998</td>\n",
       "      <td>42968300.0</td>\n",
       "      <td>0.0</td>\n",
       "      <td>0.0</td>\n",
       "      <td>amd</td>\n",
       "      <td>AMD</td>\n",
       "      <td>technology</td>\n",
       "      <td>usa</td>\n",
       "      <td>NaN</td>\n",
       "    </tr>\n",
       "    <tr>\n",
       "      <th>2</th>\n",
       "      <td>2025-05-16 00:00:00-04:00</td>\n",
       "      <td>10.050000</td>\n",
       "      <td>10.220000</td>\n",
       "      <td>10.010000</td>\n",
       "      <td>10.200000</td>\n",
       "      <td>5015027.0</td>\n",
       "      <td>0.0</td>\n",
       "      <td>0.0</td>\n",
       "      <td>zoominfo</td>\n",
       "      <td>ZI</td>\n",
       "      <td>technology</td>\n",
       "      <td>usa</td>\n",
       "      <td>NaN</td>\n",
       "    </tr>\n",
       "    <tr>\n",
       "      <th>3</th>\n",
       "      <td>2025-05-16 00:00:00-04:00</td>\n",
       "      <td>71.860001</td>\n",
       "      <td>72.260002</td>\n",
       "      <td>71.430000</td>\n",
       "      <td>72.000000</td>\n",
       "      <td>18426600.0</td>\n",
       "      <td>0.0</td>\n",
       "      <td>0.0</td>\n",
       "      <td>the coca-cola company</td>\n",
       "      <td>KO</td>\n",
       "      <td>food &amp; beverage</td>\n",
       "      <td>usa</td>\n",
       "      <td>NaN</td>\n",
       "    </tr>\n",
       "    <tr>\n",
       "      <th>4</th>\n",
       "      <td>2025-05-16 00:00:00-04:00</td>\n",
       "      <td>1193.140015</td>\n",
       "      <td>1196.500000</td>\n",
       "      <td>1179.390015</td>\n",
       "      <td>1191.530029</td>\n",
       "      <td>4683800.0</td>\n",
       "      <td>0.0</td>\n",
       "      <td>0.0</td>\n",
       "      <td>netflix</td>\n",
       "      <td>NFLX</td>\n",
       "      <td>entertainment</td>\n",
       "      <td>usa</td>\n",
       "      <td>NaN</td>\n",
       "    </tr>\n",
       "  </tbody>\n",
       "</table>\n",
       "</div>"
      ],
      "text/plain": [
       "                        Date         Open         High          Low  \\\n",
       "0  2025-05-16 00:00:00-04:00     6.320000     6.435400     6.220000   \n",
       "1  2025-05-16 00:00:00-04:00   118.070000   118.239998   116.010002   \n",
       "2  2025-05-16 00:00:00-04:00    10.050000    10.220000    10.010000   \n",
       "3  2025-05-16 00:00:00-04:00    71.860001    72.260002    71.430000   \n",
       "4  2025-05-16 00:00:00-04:00  1193.140015  1196.500000  1179.390015   \n",
       "\n",
       "         Close      Volume  Dividends  Stock Splits             Brand_Name  \\\n",
       "0     6.340000  12087274.0        0.0           0.0                peloton   \n",
       "1   117.169998  42968300.0        0.0           0.0                    amd   \n",
       "2    10.200000   5015027.0        0.0           0.0               zoominfo   \n",
       "3    72.000000  18426600.0        0.0           0.0  the coca-cola company   \n",
       "4  1191.530029   4683800.0        0.0           0.0                netflix   \n",
       "\n",
       "  Ticker     Industry_Tag Country  Capital Gains  \n",
       "0   PTON          fitness     usa            NaN  \n",
       "1    AMD       technology     usa            NaN  \n",
       "2     ZI       technology     usa            NaN  \n",
       "3     KO  food & beverage     usa            NaN  \n",
       "4   NFLX    entertainment     usa            NaN  "
      ]
     },
     "execution_count": 133,
     "metadata": {},
     "output_type": "execute_result"
    }
   ],
   "source": [
    "df = pd.read_csv('World-Stock-Prices-Dataset.csv')\n",
    "df.head()"
   ]
  },
  {
   "cell_type": "code",
   "execution_count": 134,
   "id": "9ee03652",
   "metadata": {},
   "outputs": [
    {
     "data": {
      "text/html": [
       "<div>\n",
       "<style scoped>\n",
       "    .dataframe tbody tr th:only-of-type {\n",
       "        vertical-align: middle;\n",
       "    }\n",
       "\n",
       "    .dataframe tbody tr th {\n",
       "        vertical-align: top;\n",
       "    }\n",
       "\n",
       "    .dataframe thead th {\n",
       "        text-align: right;\n",
       "    }\n",
       "</style>\n",
       "<table border=\"1\" class=\"dataframe\">\n",
       "  <thead>\n",
       "    <tr style=\"text-align: right;\">\n",
       "      <th></th>\n",
       "      <th>Date</th>\n",
       "      <th>Open</th>\n",
       "      <th>High</th>\n",
       "      <th>Low</th>\n",
       "      <th>Close</th>\n",
       "      <th>Volume</th>\n",
       "      <th>Dividends</th>\n",
       "      <th>Stock Splits</th>\n",
       "      <th>Brand_Name</th>\n",
       "      <th>Ticker</th>\n",
       "      <th>Industry_Tag</th>\n",
       "      <th>Country</th>\n",
       "      <th>Capital Gains</th>\n",
       "    </tr>\n",
       "  </thead>\n",
       "  <tbody>\n",
       "    <tr>\n",
       "      <th>307787</th>\n",
       "      <td>2000-01-03 00:00:00-05:00</td>\n",
       "      <td>0.794800</td>\n",
       "      <td>0.852586</td>\n",
       "      <td>0.770643</td>\n",
       "      <td>0.848323</td>\n",
       "      <td>535796800.0</td>\n",
       "      <td>0.0</td>\n",
       "      <td>0.0</td>\n",
       "      <td>apple</td>\n",
       "      <td>AAPL</td>\n",
       "      <td>technology</td>\n",
       "      <td>usa</td>\n",
       "      <td>NaN</td>\n",
       "    </tr>\n",
       "    <tr>\n",
       "      <th>307746</th>\n",
       "      <td>2000-01-04 00:00:00-05:00</td>\n",
       "      <td>0.820377</td>\n",
       "      <td>0.838376</td>\n",
       "      <td>0.766854</td>\n",
       "      <td>0.776801</td>\n",
       "      <td>512377600.0</td>\n",
       "      <td>0.0</td>\n",
       "      <td>0.0</td>\n",
       "      <td>apple</td>\n",
       "      <td>AAPL</td>\n",
       "      <td>technology</td>\n",
       "      <td>usa</td>\n",
       "      <td>NaN</td>\n",
       "    </tr>\n",
       "    <tr>\n",
       "      <th>307717</th>\n",
       "      <td>2000-01-05 00:00:00-05:00</td>\n",
       "      <td>0.786273</td>\n",
       "      <td>0.837902</td>\n",
       "      <td>0.780590</td>\n",
       "      <td>0.788168</td>\n",
       "      <td>778321600.0</td>\n",
       "      <td>0.0</td>\n",
       "      <td>0.0</td>\n",
       "      <td>apple</td>\n",
       "      <td>AAPL</td>\n",
       "      <td>technology</td>\n",
       "      <td>usa</td>\n",
       "      <td>NaN</td>\n",
       "    </tr>\n",
       "    <tr>\n",
       "      <th>307682</th>\n",
       "      <td>2000-01-06 00:00:00-05:00</td>\n",
       "      <td>0.804273</td>\n",
       "      <td>0.810904</td>\n",
       "      <td>0.719961</td>\n",
       "      <td>0.719961</td>\n",
       "      <td>767972800.0</td>\n",
       "      <td>0.0</td>\n",
       "      <td>0.0</td>\n",
       "      <td>apple</td>\n",
       "      <td>AAPL</td>\n",
       "      <td>technology</td>\n",
       "      <td>usa</td>\n",
       "      <td>NaN</td>\n",
       "    </tr>\n",
       "    <tr>\n",
       "      <th>307632</th>\n",
       "      <td>2000-01-07 00:00:00-05:00</td>\n",
       "      <td>0.731329</td>\n",
       "      <td>0.765433</td>\n",
       "      <td>0.723751</td>\n",
       "      <td>0.754065</td>\n",
       "      <td>460734400.0</td>\n",
       "      <td>0.0</td>\n",
       "      <td>0.0</td>\n",
       "      <td>apple</td>\n",
       "      <td>AAPL</td>\n",
       "      <td>technology</td>\n",
       "      <td>usa</td>\n",
       "      <td>NaN</td>\n",
       "    </tr>\n",
       "  </tbody>\n",
       "</table>\n",
       "</div>"
      ],
      "text/plain": [
       "                             Date      Open      High       Low     Close  \\\n",
       "307787  2000-01-03 00:00:00-05:00  0.794800  0.852586  0.770643  0.848323   \n",
       "307746  2000-01-04 00:00:00-05:00  0.820377  0.838376  0.766854  0.776801   \n",
       "307717  2000-01-05 00:00:00-05:00  0.786273  0.837902  0.780590  0.788168   \n",
       "307682  2000-01-06 00:00:00-05:00  0.804273  0.810904  0.719961  0.719961   \n",
       "307632  2000-01-07 00:00:00-05:00  0.731329  0.765433  0.723751  0.754065   \n",
       "\n",
       "             Volume  Dividends  Stock Splits Brand_Name Ticker Industry_Tag  \\\n",
       "307787  535796800.0        0.0           0.0      apple   AAPL   technology   \n",
       "307746  512377600.0        0.0           0.0      apple   AAPL   technology   \n",
       "307717  778321600.0        0.0           0.0      apple   AAPL   technology   \n",
       "307682  767972800.0        0.0           0.0      apple   AAPL   technology   \n",
       "307632  460734400.0        0.0           0.0      apple   AAPL   technology   \n",
       "\n",
       "       Country  Capital Gains  \n",
       "307787     usa            NaN  \n",
       "307746     usa            NaN  \n",
       "307717     usa            NaN  \n",
       "307682     usa            NaN  \n",
       "307632     usa            NaN  "
      ]
     },
     "execution_count": 134,
     "metadata": {},
     "output_type": "execute_result"
    }
   ],
   "source": [
    "stock_symbols = 'AAPL'\n",
    "\n",
    "df1 = df[df['Ticker'] == stock_symbols].sort_index(ascending=False)\n",
    "df1.head()"
   ]
  },
  {
   "cell_type": "code",
   "execution_count": 135,
   "id": "5cfbc439",
   "metadata": {},
   "outputs": [
    {
     "data": {
      "text/plain": [
       "0    0.848323\n",
       "1    0.776801\n",
       "2    0.788168\n",
       "3    0.719961\n",
       "4    0.754065\n",
       "Name: Close, dtype: float64"
      ]
     },
     "execution_count": 135,
     "metadata": {},
     "output_type": "execute_result"
    }
   ],
   "source": [
    "df1 = df1.reset_index()['Close']\n",
    "df1.head()"
   ]
  },
  {
   "cell_type": "code",
   "execution_count": 136,
   "id": "2071f1c6",
   "metadata": {},
   "outputs": [
    {
     "data": {
      "text/plain": [
       "Text(0.5, 1.0, 'AAPL Stock Prices')"
      ]
     },
     "execution_count": 136,
     "metadata": {},
     "output_type": "execute_result"
    },
    {
     "data": {
      "image/png": "[encoded data removed]",
      "text/plain": [
       "<Figure size 640x480 with 1 Axes>"
      ]
     },
     "metadata": {},
     "output_type": "display_data"
    }
   ],
   "source": [
    "\n",
    "plt.plot(df1)\n",
    "plt.title('AAPL Stock Prices')\n"
   ]
  },
  {
   "cell_type": "code",
   "execution_count": 137,
   "id": "9268b75a",
   "metadata": {},
   "outputs": [],
   "source": [
    "from sklearn.preprocessing import MinMaxScaler\n",
    "scaler=MinMaxScaler(feature_range=(0,1))\n",
    "df1=scaler.fit_transform(np.array(df1).reshape(-1,1))"
   ]
  },
  {
   "cell_type": "code",
   "execution_count": 138,
   "id": "33938103",
   "metadata": {},
   "outputs": [
    {
     "data": {
      "text/plain": [
       "array([[0.00250931],\n",
       "       [0.00223297],\n",
       "       [0.00227689],\n",
       "       ...,\n",
       "       [0.81620514],\n",
       "       [0.81547104],\n",
       "       [0.81547104]])"
      ]
     },
     "execution_count": 138,
     "metadata": {},
     "output_type": "execute_result"
    }
   ],
   "source": [
    "df1"
   ]
  },
  {
   "cell_type": "code",
   "execution_count": 139,
   "id": "0936b870",
   "metadata": {},
   "outputs": [],
   "source": [
    "##splitting dataset into train and test split\n",
    "training_size=int(len(df1)*0.65)\n",
    "test_size=len(df1)-training_size\n",
    "train_data,test_data=df1[0:training_size,:],df1[training_size:len(df1),:1]"
   ]
  },
  {
   "cell_type": "code",
   "execution_count": 140,
   "id": "d0b67895",
   "metadata": {},
   "outputs": [
    {
     "data": {
      "text/plain": [
       "(4179, 2251)"
      ]
     },
     "execution_count": 140,
     "metadata": {},
     "output_type": "execute_result"
    }
   ],
   "source": [
    "training_size,test_size"
   ]
  },
  {
   "cell_type": "code",
   "execution_count": 141,
   "id": "7e189ae5",
   "metadata": {},
   "outputs": [
    {
     "data": {
      "text/plain": [
       "array([[0.00250931],\n",
       "       [0.00223297],\n",
       "       [0.00227689],\n",
       "       ...,\n",
       "       [0.09667286],\n",
       "       [0.09594746],\n",
       "       [0.09588479]])"
      ]
     },
     "execution_count": 141,
     "metadata": {},
     "output_type": "execute_result"
    }
   ],
   "source": [
    "train_data"
   ]
  },
  {
   "cell_type": "code",
   "execution_count": 142,
   "id": "7e997b14",
   "metadata": {},
   "outputs": [],
   "source": [
    "# convert an array of values into a dataset matrix\n",
    "def create_dataset(dataset, time_step=1):\n",
    "\tdataX, dataY = [], []\n",
    "\tfor i in range(len(dataset)-time_step-1):\n",
    "\t\ta = dataset[i:(i+time_step), 0]   ###i=0, 0,1,2,3-----99   100 \n",
    "\t\tdataX.append(a)\n",
    "\t\tdataY.append(dataset[i + time_step, 0])\n",
    "\treturn np.array(dataX), np.array(dataY)"
   ]
  },
  {
   "cell_type": "code",
   "execution_count": 143,
   "id": "11a8dc11",
   "metadata": {},
   "outputs": [],
   "source": [
    "# reshape into X=t,t+1,t+2,t+3 and Y=t+4\n",
    "time_step = 100\n",
    "X_train, y_train = create_dataset(train_data, time_step)\n",
    "X_test, ytest = create_dataset(test_data, time_step)"
   ]
  },
  {
   "cell_type": "code",
   "execution_count": 144,
   "id": "d4b23518",
   "metadata": {},
   "outputs": [
    {
     "name": "stdout",
     "output_type": "stream",
     "text": [
      "(4078, 100)\n",
      "(4078,)\n"
     ]
    },
    {
     "data": {
      "text/plain": [
       "(None, None)"
      ]
     },
     "execution_count": 144,
     "metadata": {},
     "output_type": "execute_result"
    }
   ],
   "source": [
    "print(X_train.shape), print(y_train.shape)"
   ]
  },
  {
   "cell_type": "code",
   "execution_count": 145,
   "id": "432fb672",
   "metadata": {},
   "outputs": [
    {
     "name": "stdout",
     "output_type": "stream",
     "text": [
      "(2150, 100)\n",
      "(2150,)\n"
     ]
    },
    {
     "data": {
      "text/plain": [
       "(None, None)"
      ]
     },
     "execution_count": 145,
     "metadata": {},
     "output_type": "execute_result"
    }
   ],
   "source": [
    "print(X_test.shape), print(ytest.shape)"
   ]
  },
  {
   "cell_type": "code",
   "execution_count": 146,
   "id": "55e2ab0b",
   "metadata": {},
   "outputs": [],
   "source": [
    "# reshape input to be [samples, time steps, features] which is required for LSTM\n",
    "X_train =X_train.reshape(X_train.shape[0],X_train.shape[1] , 1)\n",
    "X_test = X_test.reshape(X_test.shape[0],X_test.shape[1] , 1)"
   ]
  },
  {
   "cell_type": "code",
   "execution_count": 147,
   "id": "f124733c",
   "metadata": {},
   "outputs": [
    {
     "data": {
      "text/plain": [
       "((4078, 100, 1), (2150, 100, 1))"
      ]
     },
     "execution_count": 147,
     "metadata": {},
     "output_type": "execute_result"
    }
   ],
   "source": [
    "X_train.shape, X_test.shape"
   ]
  },
  {
   "cell_type": "code",
   "execution_count": 148,
   "id": "46e29fd3",
   "metadata": {},
   "outputs": [],
   "source": [
    "### Create the Stacked LSTM model\n",
    "from tensorflow.keras.models import Sequential\n",
    "from tensorflow.keras.layers import Dense\n",
    "from tensorflow.keras.layers import LSTM\n",
    "from tensorflow.keras.layers import Dropout\n",
    "model = Sequential()"
   ]
  },
  {
   "cell_type": "code",
   "execution_count": 149,
   "id": "26537782",
   "metadata": {},
   "outputs": [
    {
     "name": "stderr",
     "output_type": "stream",
     "text": [
      "d:\\master program\\anaconda\\Lib\\site-packages\\keras\\src\\layers\\rnn\\rnn.py:200: UserWarning: Do not pass an `input_shape`/`input_dim` argument to a layer. When using Sequential models, prefer using an `Input(shape)` object as the first layer in the model instead.\n",
      "  super().__init__(**kwargs)\n"
     ]
    }
   ],
   "source": [
    "model.add(LSTM(50,return_sequences=True,input_shape=(100,1)))\n",
    "model.add(Dropout(0.2))\n",
    "model.add(LSTM(50,return_sequences=True))\n",
    "model.add(Dropout(0.2))\n",
    "model.add(LSTM(50))\n",
    "model.add(Dropout(0.2))\n",
    "model.add(Dense(1))\n",
    "model.compile(loss='mean_squared_error',optimizer='adam')\n"
   ]
  },
  {
   "cell_type": "code",
   "execution_count": 150,
   "id": "82f75319",
   "metadata": {},
   "outputs": [
    {
     "data": {
      "text/html": [
       "<pre style=\"white-space:pre;overflow-x:auto;line-height:normal;font-family:Menlo,'DejaVu Sans Mono',consolas,'Courier New',monospace\"><span style=\"font-weight: bold\">Model: \"sequential_3\"</span>\n",
       "</pre>\n"
      ],
      "text/plain": [
       "\u001b[1mModel: \"sequential_3\"\u001b[0m\n"
      ]
     },
     "metadata": {},
     "output_type": "display_data"
    },
    {
     "data": {
      "text/html": [
       "<pre style=\"white-space:pre;overflow-x:auto;line-height:normal;font-family:Menlo,'DejaVu Sans Mono',consolas,'Courier New',monospace\">┏━━━━━━━━━━━━━━━━━━━━━━━━━━━━━━━━━┳━━━━━━━━━━━━━━━━━━━━━━━━┳━━━━━━━━━━━━━━━┓\n",
       "┃<span style=\"font-weight: bold\"> Layer (type)                    </span>┃<span style=\"font-weight: bold\"> Output Shape           </span>┃<span style=\"font-weight: bold\">       Param # </span>┃\n",
       "┡━━━━━━━━━━━━━━━━━━━━━━━━━━━━━━━━━╇━━━━━━━━━━━━━━━━━━━━━━━━╇━━━━━━━━━━━━━━━┩\n",
       "│ lstm_9 (<span style=\"color: #0087ff; text-decoration-color: #0087ff\">LSTM</span>)                   │ (<span style=\"color: #00d7ff; text-decoration-color: #00d7ff\">None</span>, <span style=\"color: #00af00; text-decoration-color: #00af00\">100</span>, <span style=\"color: #00af00; text-decoration-color: #00af00\">50</span>)        │        <span style=\"color: #00af00; text-decoration-color: #00af00\">10,400</span> │\n",
       "├─────────────────────────────────┼────────────────────────┼───────────────┤\n",
       "│ dropout_9 (<span style=\"color: #0087ff; text-decoration-color: #0087ff\">Dropout</span>)             │ (<span style=\"color: #00d7ff; text-decoration-color: #00d7ff\">None</span>, <span style=\"color: #00af00; text-decoration-color: #00af00\">100</span>, <span style=\"color: #00af00; text-decoration-color: #00af00\">50</span>)        │             <span style=\"color: #00af00; text-decoration-color: #00af00\">0</span> │\n",
       "├─────────────────────────────────┼────────────────────────┼───────────────┤\n",
       "│ lstm_10 (<span style=\"color: #0087ff; text-decoration-color: #0087ff\">LSTM</span>)                  │ (<span style=\"color: #00d7ff; text-decoration-color: #00d7ff\">None</span>, <span style=\"color: #00af00; text-decoration-color: #00af00\">100</span>, <span style=\"color: #00af00; text-decoration-color: #00af00\">50</span>)        │        <span style=\"color: #00af00; text-decoration-color: #00af00\">20,200</span> │\n",
       "├─────────────────────────────────┼────────────────────────┼───────────────┤\n",
       "│ dropout_10 (<span style=\"color: #0087ff; text-decoration-color: #0087ff\">Dropout</span>)            │ (<span style=\"color: #00d7ff; text-decoration-color: #00d7ff\">None</span>, <span style=\"color: #00af00; text-decoration-color: #00af00\">100</span>, <span style=\"color: #00af00; text-decoration-color: #00af00\">50</span>)        │             <span style=\"color: #00af00; text-decoration-color: #00af00\">0</span> │\n",
       "├─────────────────────────────────┼────────────────────────┼───────────────┤\n",
       "│ lstm_11 (<span style=\"color: #0087ff; text-decoration-color: #0087ff\">LSTM</span>)                  │ (<span style=\"color: #00d7ff; text-decoration-color: #00d7ff\">None</span>, <span style=\"color: #00af00; text-decoration-color: #00af00\">50</span>)             │        <span style=\"color: #00af00; text-decoration-color: #00af00\">20,200</span> │\n",
       "├─────────────────────────────────┼────────────────────────┼───────────────┤\n",
       "│ dropout_11 (<span style=\"color: #0087ff; text-decoration-color: #0087ff\">Dropout</span>)            │ (<span style=\"color: #00d7ff; text-decoration-color: #00d7ff\">None</span>, <span style=\"color: #00af00; text-decoration-color: #00af00\">50</span>)             │             <span style=\"color: #00af00; text-decoration-color: #00af00\">0</span> │\n",
       "├─────────────────────────────────┼────────────────────────┼───────────────┤\n",
       "│ dense_3 (<span style=\"color: #0087ff; text-decoration-color: #0087ff\">Dense</span>)                 │ (<span style=\"color: #00d7ff; text-decoration-color: #00d7ff\">None</span>, <span style=\"color: #00af00; text-decoration-color: #00af00\">1</span>)              │            <span style=\"color: #00af00; text-decoration-color: #00af00\">51</span> │\n",
       "└─────────────────────────────────┴────────────────────────┴───────────────┘\n",
       "</pre>\n"
      ],
      "text/plain": [
       "┏━━━━━━━━━━━━━━━━━━━━━━━━━━━━━━━━━┳━━━━━━━━━━━━━━━━━━━━━━━━┳━━━━━━━━━━━━━━━┓\n",
       "┃\u001b[1m \u001b[0m\u001b[1mLayer (type)                   \u001b[0m\u001b[1m \u001b[0m┃\u001b[1m \u001b[0m\u001b[1mOutput Shape          \u001b[0m\u001b[1m \u001b[0m┃\u001b[1m \u001b[0m\u001b[1m      Param #\u001b[0m\u001b[1m \u001b[0m┃\n",
       "┡━━━━━━━━━━━━━━━━━━━━━━━━━━━━━━━━━╇━━━━━━━━━━━━━━━━━━━━━━━━╇━━━━━━━━━━━━━━━┩\n",
       "│ lstm_9 (\u001b[38;5;33mLSTM\u001b[0m)                   │ (\u001b[38;5;45mNone\u001b[0m, \u001b[38;5;34m100\u001b[0m, \u001b[38;5;34m50\u001b[0m)        │        \u001b[38;5;34m10,400\u001b[0m │\n",
       "├─────────────────────────────────┼────────────────────────┼───────────────┤\n",
       "│ dropout_9 (\u001b[38;5;33mDropout\u001b[0m)             │ (\u001b[38;5;45mNone\u001b[0m, \u001b[38;5;34m100\u001b[0m, \u001b[38;5;34m50\u001b[0m)        │             \u001b[38;5;34m0\u001b[0m │\n",
       "├─────────────────────────────────┼────────────────────────┼───────────────┤\n",
       "│ lstm_10 (\u001b[38;5;33mLSTM\u001b[0m)                  │ (\u001b[38;5;45mNone\u001b[0m, \u001b[38;5;34m100\u001b[0m, \u001b[38;5;34m50\u001b[0m)        │        \u001b[38;5;34m20,200\u001b[0m │\n",
       "├─────────────────────────────────┼────────────────────────┼───────────────┤\n",
       "│ dropout_10 (\u001b[38;5;33mDropout\u001b[0m)            │ (\u001b[38;5;45mNone\u001b[0m, \u001b[38;5;34m100\u001b[0m, \u001b[38;5;34m50\u001b[0m)        │             \u001b[38;5;34m0\u001b[0m │\n",
       "├─────────────────────────────────┼────────────────────────┼───────────────┤\n",
       "│ lstm_11 (\u001b[38;5;33mLSTM\u001b[0m)                  │ (\u001b[38;5;45mNone\u001b[0m, \u001b[38;5;34m50\u001b[0m)             │        \u001b[38;5;34m20,200\u001b[0m │\n",
       "├─────────────────────────────────┼────────────────────────┼───────────────┤\n",
       "│ dropout_11 (\u001b[38;5;33mDropout\u001b[0m)            │ (\u001b[38;5;45mNone\u001b[0m, \u001b[38;5;34m50\u001b[0m)             │             \u001b[38;5;34m0\u001b[0m │\n",
       "├─────────────────────────────────┼────────────────────────┼───────────────┤\n",
       "│ dense_3 (\u001b[38;5;33mDense\u001b[0m)                 │ (\u001b[38;5;45mNone\u001b[0m, \u001b[38;5;34m1\u001b[0m)              │            \u001b[38;5;34m51\u001b[0m │\n",
       "└─────────────────────────────────┴────────────────────────┴───────────────┘\n"
      ]
     },
     "metadata": {},
     "output_type": "display_data"
    },
    {
     "data": {
      "text/html": [
       "<pre style=\"white-space:pre;overflow-x:auto;line-height:normal;font-family:Menlo,'DejaVu Sans Mono',consolas,'Courier New',monospace\"><span style=\"font-weight: bold\"> Total params: </span><span style=\"color: #00af00; text-decoration-color: #00af00\">50,851</span> (198.64 KB)\n",
       "</pre>\n"
      ],
      "text/plain": [
       "\u001b[1m Total params: \u001b[0m\u001b[38;5;34m50,851\u001b[0m (198.64 KB)\n"
      ]
     },
     "metadata": {},
     "output_type": "display_data"
    },
    {
     "data": {
      "text/html": [
       "<pre style=\"white-space:pre;overflow-x:auto;line-height:normal;font-family:Menlo,'DejaVu Sans Mono',consolas,'Courier New',monospace\"><span style=\"font-weight: bold\"> Trainable params: </span><span style=\"color: #00af00; text-decoration-color: #00af00\">50,851</span> (198.64 KB)\n",
       "</pre>\n"
      ],
      "text/plain": [
       "\u001b[1m Trainable params: \u001b[0m\u001b[38;5;34m50,851\u001b[0m (198.64 KB)\n"
      ]
     },
     "metadata": {},
     "output_type": "display_data"
    },
    {
     "data": {
      "text/html": [
       "<pre style=\"white-space:pre;overflow-x:auto;line-height:normal;font-family:Menlo,'DejaVu Sans Mono',consolas,'Courier New',monospace\"><span style=\"font-weight: bold\"> Non-trainable params: </span><span style=\"color: #00af00; text-decoration-color: #00af00\">0</span> (0.00 B)\n",
       "</pre>\n"
      ],
      "text/plain": [
       "\u001b[1m Non-trainable params: \u001b[0m\u001b[38;5;34m0\u001b[0m (0.00 B)\n"
      ]
     },
     "metadata": {},
     "output_type": "display_data"
    }
   ],
   "source": [
    "model.summary()"
   ]
  },
  {
   "cell_type": "code",
   "execution_count": null,
   "id": "c18ba763",
   "metadata": {},
   "outputs": [
    {
     "name": "stdout",
     "output_type": "stream",
     "text": [
      "Epoch 1/100\n",
      "\u001b[1m64/64\u001b[0m \u001b[32m━━━━━━━━━━━━━━━━━━━━\u001b[0m\u001b[37m\u001b[0m \u001b[1m7s\u001b[0m 71ms/step - loss: 4.7261e-04 - val_loss: 0.0053\n",
      "Epoch 2/100\n",
      "\u001b[1m64/64\u001b[0m \u001b[32m━━━━━━━━━━━━━━━━━━━━\u001b[0m\u001b[37m\u001b[0m \u001b[1m4s\u001b[0m 63ms/step - loss: 3.0057e-05 - val_loss: 0.0060\n",
      "Epoch 3/100\n",
      "\u001b[1m64/64\u001b[0m \u001b[32m━━━━━━━━━━━━━━━━━━━━\u001b[0m\u001b[37m\u001b[0m \u001b[1m4s\u001b[0m 69ms/step - loss: 2.1639e-05 - val_loss: 0.0039\n",
      "Epoch 4/100\n",
      "\u001b[1m64/64\u001b[0m \u001b[32m━━━━━━━━━━━━━━━━━━━━\u001b[0m\u001b[37m\u001b[0m \u001b[1m5s\u001b[0m 75ms/step - loss: 1.8850e-05 - val_loss: 0.0079\n",
      "Epoch 5/100\n",
      "\u001b[1m64/64\u001b[0m \u001b[32m━━━━━━━━━━━━━━━━━━━━\u001b[0m\u001b[37m\u001b[0m \u001b[1m5s\u001b[0m 71ms/step - loss: 1.8633e-05 - val_loss: 0.0076\n",
      "Epoch 6/100\n",
      "\u001b[1m64/64\u001b[0m \u001b[32m━━━━━━━━━━━━━━━━━━━━\u001b[0m\u001b[37m\u001b[0m \u001b[1m5s\u001b[0m 71ms/step - loss: 1.8940e-05 - val_loss: 0.0102\n",
      "Epoch 7/100\n",
      "\u001b[1m64/64\u001b[0m \u001b[32m━━━━━━━━━━━━━━━━━━━━\u001b[0m\u001b[37m\u001b[0m \u001b[1m4s\u001b[0m 66ms/step - loss: 1.9668e-05 - val_loss: 0.0063\n",
      "Epoch 8/100\n",
      "\u001b[1m64/64\u001b[0m \u001b[32m━━━━━━━━━━━━━━━━━━━━\u001b[0m\u001b[37m\u001b[0m \u001b[1m4s\u001b[0m 64ms/step - loss: 1.8404e-05 - val_loss: 0.0080\n",
      "Epoch 9/100\n",
      "\u001b[1m64/64\u001b[0m \u001b[32m━━━━━━━━━━━━━━━━━━━━\u001b[0m\u001b[37m\u001b[0m \u001b[1m4s\u001b[0m 69ms/step - loss: 1.6581e-05 - val_loss: 0.0064\n",
      "Epoch 10/100\n",
      "\u001b[1m64/64\u001b[0m \u001b[32m━━━━━━━━━━━━━━━━━━━━\u001b[0m\u001b[37m\u001b[0m \u001b[1m5s\u001b[0m 75ms/step - loss: 1.6711e-05 - val_loss: 0.0110\n",
      "Epoch 11/100\n",
      "\u001b[1m64/64\u001b[0m \u001b[32m━━━━━━━━━━━━━━━━━━━━\u001b[0m\u001b[37m\u001b[0m \u001b[1m6s\u001b[0m 92ms/step - loss: 1.4590e-05 - val_loss: 0.0078\n",
      "Epoch 12/100\n",
      "\u001b[1m64/64\u001b[0m \u001b[32m━━━━━━━━━━━━━━━━━━━━\u001b[0m\u001b[37m\u001b[0m \u001b[1m6s\u001b[0m 97ms/step - loss: 1.8293e-05 - val_loss: 0.0063\n",
      "Epoch 13/100\n",
      "\u001b[1m64/64\u001b[0m \u001b[32m━━━━━━━━━━━━━━━━━━━━\u001b[0m\u001b[37m\u001b[0m \u001b[1m6s\u001b[0m 89ms/step - loss: 1.6581e-05 - val_loss: 0.0063\n"
     ]
    }
   ],
   "source": [
    "# model fitting\n",
    "from tensorflow.keras.callbacks import EarlyStopping\n",
    "early_stop = EarlyStopping(monitor='val_loss', patience=10, restore_best_weights=True)\n",
    "history = model.fit(X_train, y_train, epochs=100, batch_size=64, validation_data=(X_test, ytest), callbacks=[early_stop])"
   ]
  },
  {
   "cell_type": "code",
   "execution_count": 153,
   "id": "0a4b740b",
   "metadata": {},
   "outputs": [
    {
     "name": "stdout",
     "output_type": "stream",
     "text": [
      "\u001b[1m128/128\u001b[0m \u001b[32m━━━━━━━━━━━━━━━━━━━━\u001b[0m\u001b[37m\u001b[0m \u001b[1m3s\u001b[0m 22ms/step\n",
      "\u001b[1m68/68\u001b[0m \u001b[32m━━━━━━━━━━━━━━━━━━━━\u001b[0m\u001b[37m\u001b[0m \u001b[1m1s\u001b[0m 19ms/step\n"
     ]
    }
   ],
   "source": [
    "### Lets Do the prediction and check performance metrics\n",
    "train_predict=model.predict(X_train)\n",
    "test_predict=model.predict(X_test)"
   ]
  },
  {
   "cell_type": "code",
   "execution_count": 154,
   "id": "a7793ba6",
   "metadata": {},
   "outputs": [],
   "source": [
    "##Transformback to original form\n",
    "train_predict=scaler.inverse_transform(train_predict)\n",
    "test_predict=scaler.inverse_transform(test_predict)"
   ]
  },
  {
   "cell_type": "code",
   "execution_count": 155,
   "id": "f33997e8",
   "metadata": {},
   "outputs": [
    {
     "data": {
      "text/plain": [
       "12.04317822038565"
      ]
     },
     "execution_count": 155,
     "metadata": {},
     "output_type": "execute_result"
    }
   ],
   "source": [
    "### Calculate RMSE performance metrics\n",
    "import math\n",
    "from sklearn.metrics import mean_squared_error\n",
    "math.sqrt(mean_squared_error(y_train,train_predict))"
   ]
  },
  {
   "cell_type": "code",
   "execution_count": 156,
   "id": "a1753260",
   "metadata": {},
   "outputs": [
    {
     "name": "stdout",
     "output_type": "stream",
     "text": [
      "MAE: 8.265844880306933\n"
     ]
    }
   ],
   "source": [
    "from sklearn.metrics import mean_absolute_error\n",
    "mae = mean_absolute_error(y_train, train_predict)\n",
    "print(f'MAE: {mae}')"
   ]
  },
  {
   "cell_type": "code",
   "execution_count": 157,
   "id": "11989dfa",
   "metadata": {},
   "outputs": [
    {
     "data": {
      "text/plain": [
       "122.5261758805241"
      ]
     },
     "execution_count": 157,
     "metadata": {},
     "output_type": "execute_result"
    }
   ],
   "source": [
    "### Test Data RMSE\n",
    "math.sqrt(mean_squared_error(ytest,test_predict))"
   ]
  },
  {
   "cell_type": "code",
   "execution_count": 158,
   "id": "ff108f68",
   "metadata": {},
   "outputs": [
    {
     "name": "stdout",
     "output_type": "stream",
     "text": [
      "MAE: 109.0022001182176\n"
     ]
    }
   ],
   "source": [
    "mae = mean_absolute_error(ytest, test_predict)\n",
    "print(f'MAE: {mae}')"
   ]
  },
  {
   "cell_type": "code",
   "execution_count": 159,
   "id": "eb2d0ce8",
   "metadata": {},
   "outputs": [
    {
     "data": {
      "image/png": "[encoded data removed]",
      "text/plain": [
       "<Figure size 640x480 with 1 Axes>"
      ]
     },
     "metadata": {},
     "output_type": "display_data"
    }
   ],
   "source": [
    "### Plotting \n",
    "import matplotlib.pyplot as plt\n",
    "# shift train predictions for plotting\n",
    "look_back=100\n",
    "trainPredictPlot = np.empty_like(df1)\n",
    "trainPredictPlot[:, :] = np.nan\n",
    "trainPredictPlot[look_back:len(train_predict)+look_back, :] = train_predict\n",
    "# shift test predictions for plotting\n",
    "testPredictPlot = np.empty_like(df1)\n",
    "testPredictPlot[:, :] = np.nan\n",
    "testPredictPlot[len(train_predict)+(look_back*2)+1:len(df1)-1, :] = test_predict\n",
    "# plot baseline and predictions\n",
    "plt.plot(scaler.inverse_transform(df1))\n",
    "plt.plot(trainPredictPlot)\n",
    "plt.plot(testPredictPlot)\n",
    "plt.show()"
   ]
  },
  {
   "cell_type": "code",
   "execution_count": 160,
   "id": "4c311260",
   "metadata": {},
   "outputs": [
    {
     "data": {
      "image/png": "[encoded data removed]",
      "text/plain": [
       "<Figure size 1200x600 with 1 Axes>"
      ]
     },
     "metadata": {},
     "output_type": "display_data"
    }
   ],
   "source": [
    "plt.figure(figsize=(12, 6))\n",
    "plt.plot(scaler.inverse_transform(df1), label='Actual')\n",
    "plt.plot(trainPredictPlot, label='Train Predict')\n",
    "plt.plot(testPredictPlot, label='Test Predict')\n",
    "plt.xlabel('Time')\n",
    "plt.ylabel('Sales')\n",
    "plt.title('Actual vs Predicted Sales')\n",
    "plt.legend()\n",
    "plt.show()"
   ]
  },
  {
   "cell_type": "code",
   "execution_count": 161,
   "id": "1a5a9b00",
   "metadata": {},
   "outputs": [
    {
     "data": {
      "text/plain": [
       "2251"
      ]
     },
     "execution_count": 161,
     "metadata": {},
     "output_type": "execute_result"
    }
   ],
   "source": [
    "len(test_data)"
   ]
  },
  {
   "cell_type": "code",
   "execution_count": 162,
   "id": "6954cc38",
   "metadata": {},
   "outputs": [
    {
     "data": {
      "text/plain": [
       "(1, 100)"
      ]
     },
     "execution_count": 162,
     "metadata": {},
     "output_type": "execute_result"
    }
   ],
   "source": [
    "x_input=test_data[2151:].reshape(1,-1)\n",
    "x_input.shape"
   ]
  },
  {
   "cell_type": "code",
   "execution_count": 163,
   "id": "f87a59fb",
   "metadata": {},
   "outputs": [],
   "source": [
    "temp_input=list(x_input)\n",
    "temp_input=temp_input[0].tolist()"
   ]
  },
  {
   "cell_type": "code",
   "execution_count": 164,
   "id": "df1645e9",
   "metadata": {},
   "outputs": [
    {
     "data": {
      "text/plain": [
       "[0.9143424530452079,\n",
       " 0.9048764089569444,\n",
       " 0.900549114942853,\n",
       " 0.9182833562559157,\n",
       " 0.8811534639211922,\n",
       " 0.887798984845666,\n",
       " 0.887798984845666,\n",
       " 0.8594396449441075,\n",
       " 0.8640374243115592,\n",
       " 0.8633806071097742,\n",
       " 0.8599805566958689,\n",
       " 0.8599805566958689,\n",
       " 0.8873353630455734,\n",
       " 0.919790186061177,\n",
       " 0.924040249078559,\n",
       " 0.917201532752393,\n",
       " 0.9110583080813256,\n",
       " 0.9110583080813256,\n",
       " 0.8801875458676925,\n",
       " 0.8986945687875223,\n",
       " 0.8974195498823077,\n",
       " 0.9003173040428065,\n",
       " 0.8787193905157452,\n",
       " 0.8787193905157452,\n",
       " 0.8787966215124546,\n",
       " 0.8979990771324238,\n",
       " 0.9144196840419173,\n",
       " 0.9324244107083405,\n",
       " 0.9442859127036961,\n",
       " 0.9442859127036961,\n",
       " 0.9437836164502895,\n",
       " 0.9453290617539052,\n",
       " 0.9490382130195257,\n",
       " 0.9479563895160029,\n",
       " 0.9479563895160029,\n",
       " 0.9539450932386924,\n",
       " 0.9537132233836867,\n",
       " 0.9279039212925574,\n",
       " 0.9160810937505155,\n",
       " 0.9336221396618866,\n",
       " 0.9336221396618866,\n",
       " 0.9189015579593457,\n",
       " 0.9107878227279652,\n",
       " 0.9100537745294714,\n",
       " 0.9084696547725417,\n",
       " 0.9229198100766813,\n",
       " 0.9229198100766813,\n",
       " 0.8781398043106697,\n",
       " 0.8524850231679184,\n",
       " 0.8375712460636857,\n",
       " 0.809366427110505,\n",
       " 0.8240870677680052,\n",
       " 0.8240870677680052,\n",
       " 0.8260575193733589,\n",
       " 0.8209961182058144,\n",
       " 0.8308484941425025,\n",
       " 0.8264439101767425,\n",
       " 0.842555416234521,\n",
       " 0.842555416234521,\n",
       " 0.85206001686618,\n",
       " 0.8637283234598442,\n",
       " 0.8551509664283707,\n",
       " 0.8641147142632276,\n",
       " 0.8411258174259695,\n",
       " 0.8411258174259695,\n",
       " 0.8574691933387536,\n",
       " 0.8615646764527986,\n",
       " 0.8642692352116056,\n",
       " 0.7842912321728288,\n",
       " 0.7270702561163048,\n",
       " 0.7270702561163048,\n",
       " 0.665406021640707,\n",
       " 0.7675229089132656,\n",
       " 0.7349521214926796,\n",
       " 0.7648182911994994,\n",
       " 0.7648182911994994,\n",
       " 0.7817025788640449,\n",
       " 0.7802343645571386,\n",
       " 0.7498272830985574,\n",
       " 0.7602978017837161,\n",
       " 0.7602978017837161,\n",
       " 0.7455386045828205,\n",
       " 0.7709615748255261,\n",
       " 0.7897390241437569,\n",
       " 0.8043050259429605,\n",
       " 0.8078209818068893,\n",
       " 0.8078209818068893,\n",
       " 0.8111437422691264,\n",
       " 0.8152778998364852,\n",
       " 0.8202620110523612,\n",
       " 0.8234302505662204,\n",
       " 0.7926367783042557,\n",
       " 0.7926367783042557,\n",
       " 0.7676774298616436,\n",
       " 0.8136551056262418,\n",
       " 0.8219233618060001,\n",
       " 0.8196051938505766,\n",
       " 0.8162051434366709,\n",
       " 0.8154710362832178,\n",
       " 0.8154710362832179]"
      ]
     },
     "execution_count": 164,
     "metadata": {},
     "output_type": "execute_result"
    }
   ],
   "source": [
    "temp_input"
   ]
  },
  {
   "cell_type": "code",
   "execution_count": 165,
   "id": "f0b09ad5",
   "metadata": {},
   "outputs": [
    {
     "name": "stdout",
     "output_type": "stream",
     "text": [
      "[0.6999261]\n",
      "101\n",
      "1 day input [0.90487641 0.90054911 0.91828336 0.88115346 0.88779898 0.88779898\n",
      " 0.85943964 0.86403742 0.86338061 0.85998056 0.85998056 0.88733536\n",
      " 0.91979019 0.92404025 0.91720153 0.91105831 0.91105831 0.88018755\n",
      " 0.89869457 0.89741955 0.9003173  0.87871939 0.87871939 0.87879662\n",
      " 0.89799908 0.91441968 0.93242441 0.94428591 0.94428591 0.94378362\n",
      " 0.94532906 0.94903821 0.94795639 0.94795639 0.95394509 0.95371322\n",
      " 0.92790392 0.91608109 0.93362214 0.93362214 0.91890156 0.91078782\n",
      " 0.91005377 0.90846965 0.92291981 0.92291981 0.8781398  0.85248502\n",
      " 0.83757125 0.80936643 0.82408707 0.82408707 0.82605752 0.82099612\n",
      " 0.83084849 0.82644391 0.84255542 0.84255542 0.85206002 0.86372832\n",
      " 0.85515097 0.86411471 0.84112582 0.84112582 0.85746919 0.86156468\n",
      " 0.86426924 0.78429123 0.72707026 0.72707026 0.66540602 0.76752291\n",
      " 0.73495212 0.76481829 0.76481829 0.78170258 0.78023436 0.74982728\n",
      " 0.7602978  0.7602978  0.7455386  0.77096157 0.78973902 0.80430503\n",
      " 0.80782098 0.80782098 0.81114374 0.8152779  0.82026201 0.82343025\n",
      " 0.79263678 0.79263678 0.76767743 0.81365511 0.82192336 0.81960519\n",
      " 0.81620514 0.81547104 0.81547104 0.69992608]\n",
      "1 day output [[0.7003235]]\n",
      "2 day input [0.90054911 0.91828336 0.88115346 0.88779898 0.88779898 0.85943964\n",
      " 0.86403742 0.86338061 0.85998056 0.85998056 0.88733536 0.91979019\n",
      " 0.92404025 0.91720153 0.91105831 0.91105831 0.88018755 0.89869457\n",
      " 0.89741955 0.9003173  0.87871939 0.87871939 0.87879662 0.89799908\n",
      " 0.91441968 0.93242441 0.94428591 0.94428591 0.94378362 0.94532906\n",
      " 0.94903821 0.94795639 0.94795639 0.95394509 0.95371322 0.92790392\n",
      " 0.91608109 0.93362214 0.93362214 0.91890156 0.91078782 0.91005377\n",
      " 0.90846965 0.92291981 0.92291981 0.8781398  0.85248502 0.83757125\n",
      " 0.80936643 0.82408707 0.82408707 0.82605752 0.82099612 0.83084849\n",
      " 0.82644391 0.84255542 0.84255542 0.85206002 0.86372832 0.85515097\n",
      " 0.86411471 0.84112582 0.84112582 0.85746919 0.86156468 0.86426924\n",
      " 0.78429123 0.72707026 0.72707026 0.66540602 0.76752291 0.73495212\n",
      " 0.76481829 0.76481829 0.78170258 0.78023436 0.74982728 0.7602978\n",
      " 0.7602978  0.7455386  0.77096157 0.78973902 0.80430503 0.80782098\n",
      " 0.80782098 0.81114374 0.8152779  0.82026201 0.82343025 0.79263678\n",
      " 0.79263678 0.76767743 0.81365511 0.82192336 0.81960519 0.81620514\n",
      " 0.81547104 0.81547104 0.69992608 0.70032352]\n",
      "2 day output [[0.6996417]]\n",
      "3 day input [0.91828336 0.88115346 0.88779898 0.88779898 0.85943964 0.86403742\n",
      " 0.86338061 0.85998056 0.85998056 0.88733536 0.91979019 0.92404025\n",
      " 0.91720153 0.91105831 0.91105831 0.88018755 0.89869457 0.89741955\n",
      " 0.9003173  0.87871939 0.87871939 0.87879662 0.89799908 0.91441968\n",
      " 0.93242441 0.94428591 0.94428591 0.94378362 0.94532906 0.94903821\n",
      " 0.94795639 0.94795639 0.95394509 0.95371322 0.92790392 0.91608109\n",
      " 0.93362214 0.93362214 0.91890156 0.91078782 0.91005377 0.90846965\n",
      " 0.92291981 0.92291981 0.8781398  0.85248502 0.83757125 0.80936643\n",
      " 0.82408707 0.82408707 0.82605752 0.82099612 0.83084849 0.82644391\n",
      " 0.84255542 0.84255542 0.85206002 0.86372832 0.85515097 0.86411471\n",
      " 0.84112582 0.84112582 0.85746919 0.86156468 0.86426924 0.78429123\n",
      " 0.72707026 0.72707026 0.66540602 0.76752291 0.73495212 0.76481829\n",
      " 0.76481829 0.78170258 0.78023436 0.74982728 0.7602978  0.7602978\n",
      " 0.7455386  0.77096157 0.78973902 0.80430503 0.80782098 0.80782098\n",
      " 0.81114374 0.8152779  0.82026201 0.82343025 0.79263678 0.79263678\n",
      " 0.76767743 0.81365511 0.82192336 0.81960519 0.81620514 0.81547104\n",
      " 0.81547104 0.69992608 0.70032352 0.6996417 ]\n",
      "3 day output [[0.6978504]]\n",
      "4 day input [0.88115346 0.88779898 0.88779898 0.85943964 0.86403742 0.86338061\n",
      " 0.85998056 0.85998056 0.88733536 0.91979019 0.92404025 0.91720153\n",
      " 0.91105831 0.91105831 0.88018755 0.89869457 0.89741955 0.9003173\n",
      " 0.87871939 0.87871939 0.87879662 0.89799908 0.91441968 0.93242441\n",
      " 0.94428591 0.94428591 0.94378362 0.94532906 0.94903821 0.94795639\n",
      " 0.94795639 0.95394509 0.95371322 0.92790392 0.91608109 0.93362214\n",
      " 0.93362214 0.91890156 0.91078782 0.91005377 0.90846965 0.92291981\n",
      " 0.92291981 0.8781398  0.85248502 0.83757125 0.80936643 0.82408707\n",
      " 0.82408707 0.82605752 0.82099612 0.83084849 0.82644391 0.84255542\n",
      " 0.84255542 0.85206002 0.86372832 0.85515097 0.86411471 0.84112582\n",
      " 0.84112582 0.85746919 0.86156468 0.86426924 0.78429123 0.72707026\n",
      " 0.72707026 0.66540602 0.76752291 0.73495212 0.76481829 0.76481829\n",
      " 0.78170258 0.78023436 0.74982728 0.7602978  0.7602978  0.7455386\n",
      " 0.77096157 0.78973902 0.80430503 0.80782098 0.80782098 0.81114374\n",
      " 0.8152779  0.82026201 0.82343025 0.79263678 0.79263678 0.76767743\n",
      " 0.81365511 0.82192336 0.81960519 0.81620514 0.81547104 0.81547104\n",
      " 0.69992608 0.70032352 0.6996417  0.69785041]\n",
      "4 day output [[0.6950572]]\n",
      "5 day input [0.88779898 0.88779898 0.85943964 0.86403742 0.86338061 0.85998056\n",
      " 0.85998056 0.88733536 0.91979019 0.92404025 0.91720153 0.91105831\n",
      " 0.91105831 0.88018755 0.89869457 0.89741955 0.9003173  0.87871939\n",
      " 0.87871939 0.87879662 0.89799908 0.91441968 0.93242441 0.94428591\n",
      " 0.94428591 0.94378362 0.94532906 0.94903821 0.94795639 0.94795639\n",
      " 0.95394509 0.95371322 0.92790392 0.91608109 0.93362214 0.93362214\n",
      " 0.91890156 0.91078782 0.91005377 0.90846965 0.92291981 0.92291981\n",
      " 0.8781398  0.85248502 0.83757125 0.80936643 0.82408707 0.82408707\n",
      " 0.82605752 0.82099612 0.83084849 0.82644391 0.84255542 0.84255542\n",
      " 0.85206002 0.86372832 0.85515097 0.86411471 0.84112582 0.84112582\n",
      " 0.85746919 0.86156468 0.86426924 0.78429123 0.72707026 0.72707026\n",
      " 0.66540602 0.76752291 0.73495212 0.76481829 0.76481829 0.78170258\n",
      " 0.78023436 0.74982728 0.7602978  0.7602978  0.7455386  0.77096157\n",
      " 0.78973902 0.80430503 0.80782098 0.80782098 0.81114374 0.8152779\n",
      " 0.82026201 0.82343025 0.79263678 0.79263678 0.76767743 0.81365511\n",
      " 0.82192336 0.81960519 0.81620514 0.81547104 0.81547104 0.69992608\n",
      " 0.70032352 0.6996417  0.69785041 0.69505721]\n",
      "5 day output [[0.6914333]]\n",
      "6 day input [0.88779898 0.85943964 0.86403742 0.86338061 0.85998056 0.85998056\n",
      " 0.88733536 0.91979019 0.92404025 0.91720153 0.91105831 0.91105831\n",
      " 0.88018755 0.89869457 0.89741955 0.9003173  0.87871939 0.87871939\n",
      " 0.87879662 0.89799908 0.91441968 0.93242441 0.94428591 0.94428591\n",
      " 0.94378362 0.94532906 0.94903821 0.94795639 0.94795639 0.95394509\n",
      " 0.95371322 0.92790392 0.91608109 0.93362214 0.93362214 0.91890156\n",
      " 0.91078782 0.91005377 0.90846965 0.92291981 0.92291981 0.8781398\n",
      " 0.85248502 0.83757125 0.80936643 0.82408707 0.82408707 0.82605752\n",
      " 0.82099612 0.83084849 0.82644391 0.84255542 0.84255542 0.85206002\n",
      " 0.86372832 0.85515097 0.86411471 0.84112582 0.84112582 0.85746919\n",
      " 0.86156468 0.86426924 0.78429123 0.72707026 0.72707026 0.66540602\n",
      " 0.76752291 0.73495212 0.76481829 0.76481829 0.78170258 0.78023436\n",
      " 0.74982728 0.7602978  0.7602978  0.7455386  0.77096157 0.78973902\n",
      " 0.80430503 0.80782098 0.80782098 0.81114374 0.8152779  0.82026201\n",
      " 0.82343025 0.79263678 0.79263678 0.76767743 0.81365511 0.82192336\n",
      " 0.81960519 0.81620514 0.81547104 0.81547104 0.69992608 0.70032352\n",
      " 0.6996417  0.69785041 0.69505721 0.69143331]\n",
      "6 day output [[0.6871666]]\n",
      "7 day input [0.85943964 0.86403742 0.86338061 0.85998056 0.85998056 0.88733536\n",
      " 0.91979019 0.92404025 0.91720153 0.91105831 0.91105831 0.88018755\n",
      " 0.89869457 0.89741955 0.9003173  0.87871939 0.87871939 0.87879662\n",
      " 0.89799908 0.91441968 0.93242441 0.94428591 0.94428591 0.94378362\n",
      " 0.94532906 0.94903821 0.94795639 0.94795639 0.95394509 0.95371322\n",
      " 0.92790392 0.91608109 0.93362214 0.93362214 0.91890156 0.91078782\n",
      " 0.91005377 0.90846965 0.92291981 0.92291981 0.8781398  0.85248502\n",
      " 0.83757125 0.80936643 0.82408707 0.82408707 0.82605752 0.82099612\n",
      " 0.83084849 0.82644391 0.84255542 0.84255542 0.85206002 0.86372832\n",
      " 0.85515097 0.86411471 0.84112582 0.84112582 0.85746919 0.86156468\n",
      " 0.86426924 0.78429123 0.72707026 0.72707026 0.66540602 0.76752291\n",
      " 0.73495212 0.76481829 0.76481829 0.78170258 0.78023436 0.74982728\n",
      " 0.7602978  0.7602978  0.7455386  0.77096157 0.78973902 0.80430503\n",
      " 0.80782098 0.80782098 0.81114374 0.8152779  0.82026201 0.82343025\n",
      " 0.79263678 0.79263678 0.76767743 0.81365511 0.82192336 0.81960519\n",
      " 0.81620514 0.81547104 0.81547104 0.69992608 0.70032352 0.6996417\n",
      " 0.69785041 0.69505721 0.69143331 0.68716657]\n",
      "7 day output [[0.6824348]]\n",
      "8 day input [0.86403742 0.86338061 0.85998056 0.85998056 0.88733536 0.91979019\n",
      " 0.92404025 0.91720153 0.91105831 0.91105831 0.88018755 0.89869457\n",
      " 0.89741955 0.9003173  0.87871939 0.87871939 0.87879662 0.89799908\n",
      " 0.91441968 0.93242441 0.94428591 0.94428591 0.94378362 0.94532906\n",
      " 0.94903821 0.94795639 0.94795639 0.95394509 0.95371322 0.92790392\n",
      " 0.91608109 0.93362214 0.93362214 0.91890156 0.91078782 0.91005377\n",
      " 0.90846965 0.92291981 0.92291981 0.8781398  0.85248502 0.83757125\n",
      " 0.80936643 0.82408707 0.82408707 0.82605752 0.82099612 0.83084849\n",
      " 0.82644391 0.84255542 0.84255542 0.85206002 0.86372832 0.85515097\n",
      " 0.86411471 0.84112582 0.84112582 0.85746919 0.86156468 0.86426924\n",
      " 0.78429123 0.72707026 0.72707026 0.66540602 0.76752291 0.73495212\n",
      " 0.76481829 0.76481829 0.78170258 0.78023436 0.74982728 0.7602978\n",
      " 0.7602978  0.7455386  0.77096157 0.78973902 0.80430503 0.80782098\n",
      " 0.80782098 0.81114374 0.8152779  0.82026201 0.82343025 0.79263678\n",
      " 0.79263678 0.76767743 0.81365511 0.82192336 0.81960519 0.81620514\n",
      " 0.81547104 0.81547104 0.69992608 0.70032352 0.6996417  0.69785041\n",
      " 0.69505721 0.69143331 0.68716657 0.6824348 ]\n",
      "8 day output [[0.67739266]]\n",
      "9 day input [0.86338061 0.85998056 0.85998056 0.88733536 0.91979019 0.92404025\n",
      " 0.91720153 0.91105831 0.91105831 0.88018755 0.89869457 0.89741955\n",
      " 0.9003173  0.87871939 0.87871939 0.87879662 0.89799908 0.91441968\n",
      " 0.93242441 0.94428591 0.94428591 0.94378362 0.94532906 0.94903821\n",
      " 0.94795639 0.94795639 0.95394509 0.95371322 0.92790392 0.91608109\n",
      " 0.93362214 0.93362214 0.91890156 0.91078782 0.91005377 0.90846965\n",
      " 0.92291981 0.92291981 0.8781398  0.85248502 0.83757125 0.80936643\n",
      " 0.82408707 0.82408707 0.82605752 0.82099612 0.83084849 0.82644391\n",
      " 0.84255542 0.84255542 0.85206002 0.86372832 0.85515097 0.86411471\n",
      " 0.84112582 0.84112582 0.85746919 0.86156468 0.86426924 0.78429123\n",
      " 0.72707026 0.72707026 0.66540602 0.76752291 0.73495212 0.76481829\n",
      " 0.76481829 0.78170258 0.78023436 0.74982728 0.7602978  0.7602978\n",
      " 0.7455386  0.77096157 0.78973902 0.80430503 0.80782098 0.80782098\n",
      " 0.81114374 0.8152779  0.82026201 0.82343025 0.79263678 0.79263678\n",
      " 0.76767743 0.81365511 0.82192336 0.81960519 0.81620514 0.81547104\n",
      " 0.81547104 0.69992608 0.70032352 0.6996417  0.69785041 0.69505721\n",
      " 0.69143331 0.68716657 0.6824348  0.67739266]\n",
      "9 day output [[0.6721661]]\n",
      "10 day input [0.85998056 0.85998056 0.88733536 0.91979019 0.92404025 0.91720153\n",
      " 0.91105831 0.91105831 0.88018755 0.89869457 0.89741955 0.9003173\n",
      " 0.87871939 0.87871939 0.87879662 0.89799908 0.91441968 0.93242441\n",
      " 0.94428591 0.94428591 0.94378362 0.94532906 0.94903821 0.94795639\n",
      " 0.94795639 0.95394509 0.95371322 0.92790392 0.91608109 0.93362214\n",
      " 0.93362214 0.91890156 0.91078782 0.91005377 0.90846965 0.92291981\n",
      " 0.92291981 0.8781398  0.85248502 0.83757125 0.80936643 0.82408707\n",
      " 0.82408707 0.82605752 0.82099612 0.83084849 0.82644391 0.84255542\n",
      " 0.84255542 0.85206002 0.86372832 0.85515097 0.86411471 0.84112582\n",
      " 0.84112582 0.85746919 0.86156468 0.86426924 0.78429123 0.72707026\n",
      " 0.72707026 0.66540602 0.76752291 0.73495212 0.76481829 0.76481829\n",
      " 0.78170258 0.78023436 0.74982728 0.7602978  0.7602978  0.7455386\n",
      " 0.77096157 0.78973902 0.80430503 0.80782098 0.80782098 0.81114374\n",
      " 0.8152779  0.82026201 0.82343025 0.79263678 0.79263678 0.76767743\n",
      " 0.81365511 0.82192336 0.81960519 0.81620514 0.81547104 0.81547104\n",
      " 0.69992608 0.70032352 0.6996417  0.69785041 0.69505721 0.69143331\n",
      " 0.68716657 0.6824348  0.67739266 0.67216611]\n",
      "10 day output [[0.6668534]]\n",
      "11 day input [0.85998056 0.88733536 0.91979019 0.92404025 0.91720153 0.91105831\n",
      " 0.91105831 0.88018755 0.89869457 0.89741955 0.9003173  0.87871939\n",
      " 0.87871939 0.87879662 0.89799908 0.91441968 0.93242441 0.94428591\n",
      " 0.94428591 0.94378362 0.94532906 0.94903821 0.94795639 0.94795639\n",
      " 0.95394509 0.95371322 0.92790392 0.91608109 0.93362214 0.93362214\n",
      " 0.91890156 0.91078782 0.91005377 0.90846965 0.92291981 0.92291981\n",
      " 0.8781398  0.85248502 0.83757125 0.80936643 0.82408707 0.82408707\n",
      " 0.82605752 0.82099612 0.83084849 0.82644391 0.84255542 0.84255542\n",
      " 0.85206002 0.86372832 0.85515097 0.86411471 0.84112582 0.84112582\n",
      " 0.85746919 0.86156468 0.86426924 0.78429123 0.72707026 0.72707026\n",
      " 0.66540602 0.76752291 0.73495212 0.76481829 0.76481829 0.78170258\n",
      " 0.78023436 0.74982728 0.7602978  0.7602978  0.7455386  0.77096157\n",
      " 0.78973902 0.80430503 0.80782098 0.80782098 0.81114374 0.8152779\n",
      " 0.82026201 0.82343025 0.79263678 0.79263678 0.76767743 0.81365511\n",
      " 0.82192336 0.81960519 0.81620514 0.81547104 0.81547104 0.69992608\n",
      " 0.70032352 0.6996417  0.69785041 0.69505721 0.69143331 0.68716657\n",
      " 0.6824348  0.67739266 0.67216611 0.66685343]\n",
      "11 day output [[0.6615275]]\n",
      "12 day input [0.88733536 0.91979019 0.92404025 0.91720153 0.91105831 0.91105831\n",
      " 0.88018755 0.89869457 0.89741955 0.9003173  0.87871939 0.87871939\n",
      " 0.87879662 0.89799908 0.91441968 0.93242441 0.94428591 0.94428591\n",
      " 0.94378362 0.94532906 0.94903821 0.94795639 0.94795639 0.95394509\n",
      " 0.95371322 0.92790392 0.91608109 0.93362214 0.93362214 0.91890156\n",
      " 0.91078782 0.91005377 0.90846965 0.92291981 0.92291981 0.8781398\n",
      " 0.85248502 0.83757125 0.80936643 0.82408707 0.82408707 0.82605752\n",
      " 0.82099612 0.83084849 0.82644391 0.84255542 0.84255542 0.85206002\n",
      " 0.86372832 0.85515097 0.86411471 0.84112582 0.84112582 0.85746919\n",
      " 0.86156468 0.86426924 0.78429123 0.72707026 0.72707026 0.66540602\n",
      " 0.76752291 0.73495212 0.76481829 0.76481829 0.78170258 0.78023436\n",
      " 0.74982728 0.7602978  0.7602978  0.7455386  0.77096157 0.78973902\n",
      " 0.80430503 0.80782098 0.80782098 0.81114374 0.8152779  0.82026201\n",
      " 0.82343025 0.79263678 0.79263678 0.76767743 0.81365511 0.82192336\n",
      " 0.81960519 0.81620514 0.81547104 0.81547104 0.69992608 0.70032352\n",
      " 0.6996417  0.69785041 0.69505721 0.69143331 0.68716657 0.6824348\n",
      " 0.67739266 0.67216611 0.66685343 0.66152751]\n",
      "12 day output [[0.6562403]]\n",
      "13 day input [0.91979019 0.92404025 0.91720153 0.91105831 0.91105831 0.88018755\n",
      " 0.89869457 0.89741955 0.9003173  0.87871939 0.87871939 0.87879662\n",
      " 0.89799908 0.91441968 0.93242441 0.94428591 0.94428591 0.94378362\n",
      " 0.94532906 0.94903821 0.94795639 0.94795639 0.95394509 0.95371322\n",
      " 0.92790392 0.91608109 0.93362214 0.93362214 0.91890156 0.91078782\n",
      " 0.91005377 0.90846965 0.92291981 0.92291981 0.8781398  0.85248502\n",
      " 0.83757125 0.80936643 0.82408707 0.82408707 0.82605752 0.82099612\n",
      " 0.83084849 0.82644391 0.84255542 0.84255542 0.85206002 0.86372832\n",
      " 0.85515097 0.86411471 0.84112582 0.84112582 0.85746919 0.86156468\n",
      " 0.86426924 0.78429123 0.72707026 0.72707026 0.66540602 0.76752291\n",
      " 0.73495212 0.76481829 0.76481829 0.78170258 0.78023436 0.74982728\n",
      " 0.7602978  0.7602978  0.7455386  0.77096157 0.78973902 0.80430503\n",
      " 0.80782098 0.80782098 0.81114374 0.8152779  0.82026201 0.82343025\n",
      " 0.79263678 0.79263678 0.76767743 0.81365511 0.82192336 0.81960519\n",
      " 0.81620514 0.81547104 0.81547104 0.69992608 0.70032352 0.6996417\n",
      " 0.69785041 0.69505721 0.69143331 0.68716657 0.6824348  0.67739266\n",
      " 0.67216611 0.66685343 0.66152751 0.65624028]\n",
      "13 day output [[0.6510267]]\n",
      "14 day input [0.92404025 0.91720153 0.91105831 0.91105831 0.88018755 0.89869457\n",
      " 0.89741955 0.9003173  0.87871939 0.87871939 0.87879662 0.89799908\n",
      " 0.91441968 0.93242441 0.94428591 0.94428591 0.94378362 0.94532906\n",
      " 0.94903821 0.94795639 0.94795639 0.95394509 0.95371322 0.92790392\n",
      " 0.91608109 0.93362214 0.93362214 0.91890156 0.91078782 0.91005377\n",
      " 0.90846965 0.92291981 0.92291981 0.8781398  0.85248502 0.83757125\n",
      " 0.80936643 0.82408707 0.82408707 0.82605752 0.82099612 0.83084849\n",
      " 0.82644391 0.84255542 0.84255542 0.85206002 0.86372832 0.85515097\n",
      " 0.86411471 0.84112582 0.84112582 0.85746919 0.86156468 0.86426924\n",
      " 0.78429123 0.72707026 0.72707026 0.66540602 0.76752291 0.73495212\n",
      " 0.76481829 0.76481829 0.78170258 0.78023436 0.74982728 0.7602978\n",
      " 0.7602978  0.7455386  0.77096157 0.78973902 0.80430503 0.80782098\n",
      " 0.80782098 0.81114374 0.8152779  0.82026201 0.82343025 0.79263678\n",
      " 0.79263678 0.76767743 0.81365511 0.82192336 0.81960519 0.81620514\n",
      " 0.81547104 0.81547104 0.69992608 0.70032352 0.6996417  0.69785041\n",
      " 0.69505721 0.69143331 0.68716657 0.6824348  0.67739266 0.67216611\n",
      " 0.66685343 0.66152751 0.65624028 0.65102673]\n",
      "14 day output [[0.6459088]]\n",
      "15 day input [0.91720153 0.91105831 0.91105831 0.88018755 0.89869457 0.89741955\n",
      " 0.9003173  0.87871939 0.87871939 0.87879662 0.89799908 0.91441968\n",
      " 0.93242441 0.94428591 0.94428591 0.94378362 0.94532906 0.94903821\n",
      " 0.94795639 0.94795639 0.95394509 0.95371322 0.92790392 0.91608109\n",
      " 0.93362214 0.93362214 0.91890156 0.91078782 0.91005377 0.90846965\n",
      " 0.92291981 0.92291981 0.8781398  0.85248502 0.83757125 0.80936643\n",
      " 0.82408707 0.82408707 0.82605752 0.82099612 0.83084849 0.82644391\n",
      " 0.84255542 0.84255542 0.85206002 0.86372832 0.85515097 0.86411471\n",
      " 0.84112582 0.84112582 0.85746919 0.86156468 0.86426924 0.78429123\n",
      " 0.72707026 0.72707026 0.66540602 0.76752291 0.73495212 0.76481829\n",
      " 0.76481829 0.78170258 0.78023436 0.74982728 0.7602978  0.7602978\n",
      " 0.7455386  0.77096157 0.78973902 0.80430503 0.80782098 0.80782098\n",
      " 0.81114374 0.8152779  0.82026201 0.82343025 0.79263678 0.79263678\n",
      " 0.76767743 0.81365511 0.82192336 0.81960519 0.81620514 0.81547104\n",
      " 0.81547104 0.69992608 0.70032352 0.6996417  0.69785041 0.69505721\n",
      " 0.69143331 0.68716657 0.6824348  0.67739266 0.67216611 0.66685343\n",
      " 0.66152751 0.65624028 0.65102673 0.64590877]\n",
      "15 day output [[0.6408994]]\n",
      "16 day input [0.91105831 0.91105831 0.88018755 0.89869457 0.89741955 0.9003173\n",
      " 0.87871939 0.87871939 0.87879662 0.89799908 0.91441968 0.93242441\n",
      " 0.94428591 0.94428591 0.94378362 0.94532906 0.94903821 0.94795639\n",
      " 0.94795639 0.95394509 0.95371322 0.92790392 0.91608109 0.93362214\n",
      " 0.93362214 0.91890156 0.91078782 0.91005377 0.90846965 0.92291981\n",
      " 0.92291981 0.8781398  0.85248502 0.83757125 0.80936643 0.82408707\n",
      " 0.82408707 0.82605752 0.82099612 0.83084849 0.82644391 0.84255542\n",
      " 0.84255542 0.85206002 0.86372832 0.85515097 0.86411471 0.84112582\n",
      " 0.84112582 0.85746919 0.86156468 0.86426924 0.78429123 0.72707026\n",
      " 0.72707026 0.66540602 0.76752291 0.73495212 0.76481829 0.76481829\n",
      " 0.78170258 0.78023436 0.74982728 0.7602978  0.7602978  0.7455386\n",
      " 0.77096157 0.78973902 0.80430503 0.80782098 0.80782098 0.81114374\n",
      " 0.8152779  0.82026201 0.82343025 0.79263678 0.79263678 0.76767743\n",
      " 0.81365511 0.82192336 0.81960519 0.81620514 0.81547104 0.81547104\n",
      " 0.69992608 0.70032352 0.6996417  0.69785041 0.69505721 0.69143331\n",
      " 0.68716657 0.6824348  0.67739266 0.67216611 0.66685343 0.66152751\n",
      " 0.65624028 0.65102673 0.64590877 0.64089942]\n",
      "16 day output [[0.63600487]]\n",
      "17 day input [0.91105831 0.88018755 0.89869457 0.89741955 0.9003173  0.87871939\n",
      " 0.87871939 0.87879662 0.89799908 0.91441968 0.93242441 0.94428591\n",
      " 0.94428591 0.94378362 0.94532906 0.94903821 0.94795639 0.94795639\n",
      " 0.95394509 0.95371322 0.92790392 0.91608109 0.93362214 0.93362214\n",
      " 0.91890156 0.91078782 0.91005377 0.90846965 0.92291981 0.92291981\n",
      " 0.8781398  0.85248502 0.83757125 0.80936643 0.82408707 0.82408707\n",
      " 0.82605752 0.82099612 0.83084849 0.82644391 0.84255542 0.84255542\n",
      " 0.85206002 0.86372832 0.85515097 0.86411471 0.84112582 0.84112582\n",
      " 0.85746919 0.86156468 0.86426924 0.78429123 0.72707026 0.72707026\n",
      " 0.66540602 0.76752291 0.73495212 0.76481829 0.76481829 0.78170258\n",
      " 0.78023436 0.74982728 0.7602978  0.7602978  0.7455386  0.77096157\n",
      " 0.78973902 0.80430503 0.80782098 0.80782098 0.81114374 0.8152779\n",
      " 0.82026201 0.82343025 0.79263678 0.79263678 0.76767743 0.81365511\n",
      " 0.82192336 0.81960519 0.81620514 0.81547104 0.81547104 0.69992608\n",
      " 0.70032352 0.6996417  0.69785041 0.69505721 0.69143331 0.68716657\n",
      " 0.6824348  0.67739266 0.67216611 0.66685343 0.66152751 0.65624028\n",
      " 0.65102673 0.64590877 0.64089942 0.63600487]\n",
      "17 day output [[0.6312266]]\n",
      "18 day input [0.88018755 0.89869457 0.89741955 0.9003173  0.87871939 0.87871939\n",
      " 0.87879662 0.89799908 0.91441968 0.93242441 0.94428591 0.94428591\n",
      " 0.94378362 0.94532906 0.94903821 0.94795639 0.94795639 0.95394509\n",
      " 0.95371322 0.92790392 0.91608109 0.93362214 0.93362214 0.91890156\n",
      " 0.91078782 0.91005377 0.90846965 0.92291981 0.92291981 0.8781398\n",
      " 0.85248502 0.83757125 0.80936643 0.82408707 0.82408707 0.82605752\n",
      " 0.82099612 0.83084849 0.82644391 0.84255542 0.84255542 0.85206002\n",
      " 0.86372832 0.85515097 0.86411471 0.84112582 0.84112582 0.85746919\n",
      " 0.86156468 0.86426924 0.78429123 0.72707026 0.72707026 0.66540602\n",
      " 0.76752291 0.73495212 0.76481829 0.76481829 0.78170258 0.78023436\n",
      " 0.74982728 0.7602978  0.7602978  0.7455386  0.77096157 0.78973902\n",
      " 0.80430503 0.80782098 0.80782098 0.81114374 0.8152779  0.82026201\n",
      " 0.82343025 0.79263678 0.79263678 0.76767743 0.81365511 0.82192336\n",
      " 0.81960519 0.81620514 0.81547104 0.81547104 0.69992608 0.70032352\n",
      " 0.6996417  0.69785041 0.69505721 0.69143331 0.68716657 0.6824348\n",
      " 0.67739266 0.67216611 0.66685343 0.66152751 0.65624028 0.65102673\n",
      " 0.64590877 0.64089942 0.63600487 0.6312266 ]\n",
      "18 day output [[0.6265641]]\n",
      "19 day input [0.89869457 0.89741955 0.9003173  0.87871939 0.87871939 0.87879662\n",
      " 0.89799908 0.91441968 0.93242441 0.94428591 0.94428591 0.94378362\n",
      " 0.94532906 0.94903821 0.94795639 0.94795639 0.95394509 0.95371322\n",
      " 0.92790392 0.91608109 0.93362214 0.93362214 0.91890156 0.91078782\n",
      " 0.91005377 0.90846965 0.92291981 0.92291981 0.8781398  0.85248502\n",
      " 0.83757125 0.80936643 0.82408707 0.82408707 0.82605752 0.82099612\n",
      " 0.83084849 0.82644391 0.84255542 0.84255542 0.85206002 0.86372832\n",
      " 0.85515097 0.86411471 0.84112582 0.84112582 0.85746919 0.86156468\n",
      " 0.86426924 0.78429123 0.72707026 0.72707026 0.66540602 0.76752291\n",
      " 0.73495212 0.76481829 0.76481829 0.78170258 0.78023436 0.74982728\n",
      " 0.7602978  0.7602978  0.7455386  0.77096157 0.78973902 0.80430503\n",
      " 0.80782098 0.80782098 0.81114374 0.8152779  0.82026201 0.82343025\n",
      " 0.79263678 0.79263678 0.76767743 0.81365511 0.82192336 0.81960519\n",
      " 0.81620514 0.81547104 0.81547104 0.69992608 0.70032352 0.6996417\n",
      " 0.69785041 0.69505721 0.69143331 0.68716657 0.6824348  0.67739266\n",
      " 0.67216611 0.66685343 0.66152751 0.65624028 0.65102673 0.64590877\n",
      " 0.64089942 0.63600487 0.6312266  0.62656409]\n",
      "19 day output [[0.6220143]]\n",
      "20 day input [0.89741955 0.9003173  0.87871939 0.87871939 0.87879662 0.89799908\n",
      " 0.91441968 0.93242441 0.94428591 0.94428591 0.94378362 0.94532906\n",
      " 0.94903821 0.94795639 0.94795639 0.95394509 0.95371322 0.92790392\n",
      " 0.91608109 0.93362214 0.93362214 0.91890156 0.91078782 0.91005377\n",
      " 0.90846965 0.92291981 0.92291981 0.8781398  0.85248502 0.83757125\n",
      " 0.80936643 0.82408707 0.82408707 0.82605752 0.82099612 0.83084849\n",
      " 0.82644391 0.84255542 0.84255542 0.85206002 0.86372832 0.85515097\n",
      " 0.86411471 0.84112582 0.84112582 0.85746919 0.86156468 0.86426924\n",
      " 0.78429123 0.72707026 0.72707026 0.66540602 0.76752291 0.73495212\n",
      " 0.76481829 0.76481829 0.78170258 0.78023436 0.74982728 0.7602978\n",
      " 0.7602978  0.7455386  0.77096157 0.78973902 0.80430503 0.80782098\n",
      " 0.80782098 0.81114374 0.8152779  0.82026201 0.82343025 0.79263678\n",
      " 0.79263678 0.76767743 0.81365511 0.82192336 0.81960519 0.81620514\n",
      " 0.81547104 0.81547104 0.69992608 0.70032352 0.6996417  0.69785041\n",
      " 0.69505721 0.69143331 0.68716657 0.6824348  0.67739266 0.67216611\n",
      " 0.66685343 0.66152751 0.65624028 0.65102673 0.64590877 0.64089942\n",
      " 0.63600487 0.6312266  0.62656409 0.62201428]\n",
      "20 day output [[0.6175734]]\n",
      "21 day input [0.9003173  0.87871939 0.87871939 0.87879662 0.89799908 0.91441968\n",
      " 0.93242441 0.94428591 0.94428591 0.94378362 0.94532906 0.94903821\n",
      " 0.94795639 0.94795639 0.95394509 0.95371322 0.92790392 0.91608109\n",
      " 0.93362214 0.93362214 0.91890156 0.91078782 0.91005377 0.90846965\n",
      " 0.92291981 0.92291981 0.8781398  0.85248502 0.83757125 0.80936643\n",
      " 0.82408707 0.82408707 0.82605752 0.82099612 0.83084849 0.82644391\n",
      " 0.84255542 0.84255542 0.85206002 0.86372832 0.85515097 0.86411471\n",
      " 0.84112582 0.84112582 0.85746919 0.86156468 0.86426924 0.78429123\n",
      " 0.72707026 0.72707026 0.66540602 0.76752291 0.73495212 0.76481829\n",
      " 0.76481829 0.78170258 0.78023436 0.74982728 0.7602978  0.7602978\n",
      " 0.7455386  0.77096157 0.78973902 0.80430503 0.80782098 0.80782098\n",
      " 0.81114374 0.8152779  0.82026201 0.82343025 0.79263678 0.79263678\n",
      " 0.76767743 0.81365511 0.82192336 0.81960519 0.81620514 0.81547104\n",
      " 0.81547104 0.69992608 0.70032352 0.6996417  0.69785041 0.69505721\n",
      " 0.69143331 0.68716657 0.6824348  0.67739266 0.67216611 0.66685343\n",
      " 0.66152751 0.65624028 0.65102673 0.64590877 0.64089942 0.63600487\n",
      " 0.6312266  0.62656409 0.62201428 0.61757338]\n",
      "21 day output [[0.61323756]]\n",
      "22 day input [0.87871939 0.87871939 0.87879662 0.89799908 0.91441968 0.93242441\n",
      " 0.94428591 0.94428591 0.94378362 0.94532906 0.94903821 0.94795639\n",
      " 0.94795639 0.95394509 0.95371322 0.92790392 0.91608109 0.93362214\n",
      " 0.93362214 0.91890156 0.91078782 0.91005377 0.90846965 0.92291981\n",
      " 0.92291981 0.8781398  0.85248502 0.83757125 0.80936643 0.82408707\n",
      " 0.82408707 0.82605752 0.82099612 0.83084849 0.82644391 0.84255542\n",
      " 0.84255542 0.85206002 0.86372832 0.85515097 0.86411471 0.84112582\n",
      " 0.84112582 0.85746919 0.86156468 0.86426924 0.78429123 0.72707026\n",
      " 0.72707026 0.66540602 0.76752291 0.73495212 0.76481829 0.76481829\n",
      " 0.78170258 0.78023436 0.74982728 0.7602978  0.7602978  0.7455386\n",
      " 0.77096157 0.78973902 0.80430503 0.80782098 0.80782098 0.81114374\n",
      " 0.8152779  0.82026201 0.82343025 0.79263678 0.79263678 0.76767743\n",
      " 0.81365511 0.82192336 0.81960519 0.81620514 0.81547104 0.81547104\n",
      " 0.69992608 0.70032352 0.6996417  0.69785041 0.69505721 0.69143331\n",
      " 0.68716657 0.6824348  0.67739266 0.67216611 0.66685343 0.66152751\n",
      " 0.65624028 0.65102673 0.64590877 0.64089942 0.63600487 0.6312266\n",
      " 0.62656409 0.62201428 0.61757338 0.61323756]\n",
      "22 day output [[0.6090027]]\n",
      "23 day input [0.87871939 0.87879662 0.89799908 0.91441968 0.93242441 0.94428591\n",
      " 0.94428591 0.94378362 0.94532906 0.94903821 0.94795639 0.94795639\n",
      " 0.95394509 0.95371322 0.92790392 0.91608109 0.93362214 0.93362214\n",
      " 0.91890156 0.91078782 0.91005377 0.90846965 0.92291981 0.92291981\n",
      " 0.8781398  0.85248502 0.83757125 0.80936643 0.82408707 0.82408707\n",
      " 0.82605752 0.82099612 0.83084849 0.82644391 0.84255542 0.84255542\n",
      " 0.85206002 0.86372832 0.85515097 0.86411471 0.84112582 0.84112582\n",
      " 0.85746919 0.86156468 0.86426924 0.78429123 0.72707026 0.72707026\n",
      " 0.66540602 0.76752291 0.73495212 0.76481829 0.76481829 0.78170258\n",
      " 0.78023436 0.74982728 0.7602978  0.7602978  0.7455386  0.77096157\n",
      " 0.78973902 0.80430503 0.80782098 0.80782098 0.81114374 0.8152779\n",
      " 0.82026201 0.82343025 0.79263678 0.79263678 0.76767743 0.81365511\n",
      " 0.82192336 0.81960519 0.81620514 0.81547104 0.81547104 0.69992608\n",
      " 0.70032352 0.6996417  0.69785041 0.69505721 0.69143331 0.68716657\n",
      " 0.6824348  0.67739266 0.67216611 0.66685343 0.66152751 0.65624028\n",
      " 0.65102673 0.64590877 0.64089942 0.63600487 0.6312266  0.62656409\n",
      " 0.62201428 0.61757338 0.61323756 0.60900271]\n",
      "23 day output [[0.6048647]]\n",
      "24 day input [0.87879662 0.89799908 0.91441968 0.93242441 0.94428591 0.94428591\n",
      " 0.94378362 0.94532906 0.94903821 0.94795639 0.94795639 0.95394509\n",
      " 0.95371322 0.92790392 0.91608109 0.93362214 0.93362214 0.91890156\n",
      " 0.91078782 0.91005377 0.90846965 0.92291981 0.92291981 0.8781398\n",
      " 0.85248502 0.83757125 0.80936643 0.82408707 0.82408707 0.82605752\n",
      " 0.82099612 0.83084849 0.82644391 0.84255542 0.84255542 0.85206002\n",
      " 0.86372832 0.85515097 0.86411471 0.84112582 0.84112582 0.85746919\n",
      " 0.86156468 0.86426924 0.78429123 0.72707026 0.72707026 0.66540602\n",
      " 0.76752291 0.73495212 0.76481829 0.76481829 0.78170258 0.78023436\n",
      " 0.74982728 0.7602978  0.7602978  0.7455386  0.77096157 0.78973902\n",
      " 0.80430503 0.80782098 0.80782098 0.81114374 0.8152779  0.82026201\n",
      " 0.82343025 0.79263678 0.79263678 0.76767743 0.81365511 0.82192336\n",
      " 0.81960519 0.81620514 0.81547104 0.81547104 0.69992608 0.70032352\n",
      " 0.6996417  0.69785041 0.69505721 0.69143331 0.68716657 0.6824348\n",
      " 0.67739266 0.67216611 0.66685343 0.66152751 0.65624028 0.65102673\n",
      " 0.64590877 0.64089942 0.63600487 0.6312266  0.62656409 0.62201428\n",
      " 0.61757338 0.61323756 0.60900271 0.60486472]\n",
      "24 day output [[0.60082]]\n",
      "25 day input [0.89799908 0.91441968 0.93242441 0.94428591 0.94428591 0.94378362\n",
      " 0.94532906 0.94903821 0.94795639 0.94795639 0.95394509 0.95371322\n",
      " 0.92790392 0.91608109 0.93362214 0.93362214 0.91890156 0.91078782\n",
      " 0.91005377 0.90846965 0.92291981 0.92291981 0.8781398  0.85248502\n",
      " 0.83757125 0.80936643 0.82408707 0.82408707 0.82605752 0.82099612\n",
      " 0.83084849 0.82644391 0.84255542 0.84255542 0.85206002 0.86372832\n",
      " 0.85515097 0.86411471 0.84112582 0.84112582 0.85746919 0.86156468\n",
      " 0.86426924 0.78429123 0.72707026 0.72707026 0.66540602 0.76752291\n",
      " 0.73495212 0.76481829 0.76481829 0.78170258 0.78023436 0.74982728\n",
      " 0.7602978  0.7602978  0.7455386  0.77096157 0.78973902 0.80430503\n",
      " 0.80782098 0.80782098 0.81114374 0.8152779  0.82026201 0.82343025\n",
      " 0.79263678 0.79263678 0.76767743 0.81365511 0.82192336 0.81960519\n",
      " 0.81620514 0.81547104 0.81547104 0.69992608 0.70032352 0.6996417\n",
      " 0.69785041 0.69505721 0.69143331 0.68716657 0.6824348  0.67739266\n",
      " 0.67216611 0.66685343 0.66152751 0.65624028 0.65102673 0.64590877\n",
      " 0.64089942 0.63600487 0.6312266  0.62656409 0.62201428 0.61757338\n",
      " 0.61323756 0.60900271 0.60486472 0.60082   ]\n",
      "25 day output [[0.5968649]]\n",
      "26 day input [0.91441968 0.93242441 0.94428591 0.94428591 0.94378362 0.94532906\n",
      " 0.94903821 0.94795639 0.94795639 0.95394509 0.95371322 0.92790392\n",
      " 0.91608109 0.93362214 0.93362214 0.91890156 0.91078782 0.91005377\n",
      " 0.90846965 0.92291981 0.92291981 0.8781398  0.85248502 0.83757125\n",
      " 0.80936643 0.82408707 0.82408707 0.82605752 0.82099612 0.83084849\n",
      " 0.82644391 0.84255542 0.84255542 0.85206002 0.86372832 0.85515097\n",
      " 0.86411471 0.84112582 0.84112582 0.85746919 0.86156468 0.86426924\n",
      " 0.78429123 0.72707026 0.72707026 0.66540602 0.76752291 0.73495212\n",
      " 0.76481829 0.76481829 0.78170258 0.78023436 0.74982728 0.7602978\n",
      " 0.7602978  0.7455386  0.77096157 0.78973902 0.80430503 0.80782098\n",
      " 0.80782098 0.81114374 0.8152779  0.82026201 0.82343025 0.79263678\n",
      " 0.79263678 0.76767743 0.81365511 0.82192336 0.81960519 0.81620514\n",
      " 0.81547104 0.81547104 0.69992608 0.70032352 0.6996417  0.69785041\n",
      " 0.69505721 0.69143331 0.68716657 0.6824348  0.67739266 0.67216611\n",
      " 0.66685343 0.66152751 0.65624028 0.65102673 0.64590877 0.64089942\n",
      " 0.63600487 0.6312266  0.62656409 0.62201428 0.61757338 0.61323756\n",
      " 0.60900271 0.60486472 0.60082    0.59686488]\n",
      "26 day output [[0.5929961]]\n",
      "27 day input [0.93242441 0.94428591 0.94428591 0.94378362 0.94532906 0.94903821\n",
      " 0.94795639 0.94795639 0.95394509 0.95371322 0.92790392 0.91608109\n",
      " 0.93362214 0.93362214 0.91890156 0.91078782 0.91005377 0.90846965\n",
      " 0.92291981 0.92291981 0.8781398  0.85248502 0.83757125 0.80936643\n",
      " 0.82408707 0.82408707 0.82605752 0.82099612 0.83084849 0.82644391\n",
      " 0.84255542 0.84255542 0.85206002 0.86372832 0.85515097 0.86411471\n",
      " 0.84112582 0.84112582 0.85746919 0.86156468 0.86426924 0.78429123\n",
      " 0.72707026 0.72707026 0.66540602 0.76752291 0.73495212 0.76481829\n",
      " 0.76481829 0.78170258 0.78023436 0.74982728 0.7602978  0.7602978\n",
      " 0.7455386  0.77096157 0.78973902 0.80430503 0.80782098 0.80782098\n",
      " 0.81114374 0.8152779  0.82026201 0.82343025 0.79263678 0.79263678\n",
      " 0.76767743 0.81365511 0.82192336 0.81960519 0.81620514 0.81547104\n",
      " 0.81547104 0.69992608 0.70032352 0.6996417  0.69785041 0.69505721\n",
      " 0.69143331 0.68716657 0.6824348  0.67739266 0.67216611 0.66685343\n",
      " 0.66152751 0.65624028 0.65102673 0.64590877 0.64089942 0.63600487\n",
      " 0.6312266  0.62656409 0.62201428 0.61757338 0.61323756 0.60900271\n",
      " 0.60486472 0.60082    0.59686488 0.59299612]\n",
      "27 day output [[0.58921075]]\n",
      "28 day input [0.94428591 0.94428591 0.94378362 0.94532906 0.94903821 0.94795639\n",
      " 0.94795639 0.95394509 0.95371322 0.92790392 0.91608109 0.93362214\n",
      " 0.93362214 0.91890156 0.91078782 0.91005377 0.90846965 0.92291981\n",
      " 0.92291981 0.8781398  0.85248502 0.83757125 0.80936643 0.82408707\n",
      " 0.82408707 0.82605752 0.82099612 0.83084849 0.82644391 0.84255542\n",
      " 0.84255542 0.85206002 0.86372832 0.85515097 0.86411471 0.84112582\n",
      " 0.84112582 0.85746919 0.86156468 0.86426924 0.78429123 0.72707026\n",
      " 0.72707026 0.66540602 0.76752291 0.73495212 0.76481829 0.76481829\n",
      " 0.78170258 0.78023436 0.74982728 0.7602978  0.7602978  0.7455386\n",
      " 0.77096157 0.78973902 0.80430503 0.80782098 0.80782098 0.81114374\n",
      " 0.8152779  0.82026201 0.82343025 0.79263678 0.79263678 0.76767743\n",
      " 0.81365511 0.82192336 0.81960519 0.81620514 0.81547104 0.81547104\n",
      " 0.69992608 0.70032352 0.6996417  0.69785041 0.69505721 0.69143331\n",
      " 0.68716657 0.6824348  0.67739266 0.67216611 0.66685343 0.66152751\n",
      " 0.65624028 0.65102673 0.64590877 0.64089942 0.63600487 0.6312266\n",
      " 0.62656409 0.62201428 0.61757338 0.61323756 0.60900271 0.60486472\n",
      " 0.60082    0.59686488 0.59299612 0.58921075]\n",
      "28 day output [[0.5855059]]\n",
      "29 day input [0.94428591 0.94378362 0.94532906 0.94903821 0.94795639 0.94795639\n",
      " 0.95394509 0.95371322 0.92790392 0.91608109 0.93362214 0.93362214\n",
      " 0.91890156 0.91078782 0.91005377 0.90846965 0.92291981 0.92291981\n",
      " 0.8781398  0.85248502 0.83757125 0.80936643 0.82408707 0.82408707\n",
      " 0.82605752 0.82099612 0.83084849 0.82644391 0.84255542 0.84255542\n",
      " 0.85206002 0.86372832 0.85515097 0.86411471 0.84112582 0.84112582\n",
      " 0.85746919 0.86156468 0.86426924 0.78429123 0.72707026 0.72707026\n",
      " 0.66540602 0.76752291 0.73495212 0.76481829 0.76481829 0.78170258\n",
      " 0.78023436 0.74982728 0.7602978  0.7602978  0.7455386  0.77096157\n",
      " 0.78973902 0.80430503 0.80782098 0.80782098 0.81114374 0.8152779\n",
      " 0.82026201 0.82343025 0.79263678 0.79263678 0.76767743 0.81365511\n",
      " 0.82192336 0.81960519 0.81620514 0.81547104 0.81547104 0.69992608\n",
      " 0.70032352 0.6996417  0.69785041 0.69505721 0.69143331 0.68716657\n",
      " 0.6824348  0.67739266 0.67216611 0.66685343 0.66152751 0.65624028\n",
      " 0.65102673 0.64590877 0.64089942 0.63600487 0.6312266  0.62656409\n",
      " 0.62201428 0.61757338 0.61323756 0.60900271 0.60486472 0.60082\n",
      " 0.59686488 0.59299612 0.58921075 0.5855059 ]\n",
      "29 day output [[0.5818787]]\n",
      "[[0.6999260783195496], [0.7003235220909119], [0.6996417045593262], [0.6978504061698914], [0.695057213306427], [0.691433310508728], [0.6871665716171265], [0.6824347972869873], [0.6773926615715027], [0.672166109085083], [0.6668534278869629], [0.6615275144577026], [0.6562402844429016], [0.651026725769043], [0.645908772945404], [0.6408994197845459], [0.6360048651695251], [0.6312265992164612], [0.626564085483551], [0.6220142841339111], [0.6175733804702759], [0.6132375597953796], [0.6090027093887329], [0.6048647165298462], [0.600820004940033], [0.5968648791313171], [0.5929961204528809], [0.5892107486724854], [0.5855059027671814], [0.5818787217140198]]\n"
     ]
    }
   ],
   "source": [
    "# demonstrate prediction for next 30 days\n",
    "lst_output=[]\n",
    "n_steps=100\n",
    "i=0\n",
    "n_days=30\n",
    "while(i<n_days):\n",
    "    \n",
    "    if(len(temp_input)>100):\n",
    "        #print(temp_input)\n",
    "        x_input=np.array(temp_input[1:])\n",
    "        print(\"{} day input {}\".format(i,x_input))\n",
    "        x_input=x_input.reshape(1,-1)\n",
    "        # reshape from [1,100] into [1,100,1]\n",
    "        x_input = x_input.reshape((1, n_steps, 1))\n",
    "        #print(x_input)\n",
    "        yhat = model.predict(x_input, verbose=0)\n",
    "        print(\"{} day output {}\".format(i,yhat))\n",
    "        temp_input.extend(yhat[0].tolist())\n",
    "        temp_input=temp_input[1:]\n",
    "        #print(temp_input)\n",
    "        lst_output.extend(yhat.tolist())\n",
    "        i=i+1\n",
    "    else:\n",
    "        x_input = x_input.reshape((1, n_steps,1))\n",
    "        yhat = model.predict(x_input, verbose=0)\n",
    "        print(yhat[0])\n",
    "        temp_input.extend(yhat[0].tolist())\n",
    "        print(len(temp_input))\n",
    "        lst_output.extend(yhat.tolist())\n",
    "        i=i+1\n",
    "    \n",
    "\n",
    "print(lst_output)"
   ]
  },
  {
   "cell_type": "code",
   "execution_count": 166,
   "id": "e4d2b5a7",
   "metadata": {},
   "outputs": [],
   "source": [
    "day_new=np.arange(1,n_steps+1)\n",
    "day_pred=np.arange(n_steps+1,n_steps+n_days+1)"
   ]
  },
  {
   "cell_type": "code",
   "execution_count": 167,
   "id": "08b49ce2",
   "metadata": {},
   "outputs": [],
   "source": [
    "lendf1 = len(df1)"
   ]
  },
  {
   "cell_type": "code",
   "execution_count": 168,
   "id": "ef2f5df9",
   "metadata": {},
   "outputs": [
    {
     "data": {
      "text/plain": [
       "[<matplotlib.lines.Line2D at 0x206b31d6f60>]"
      ]
     },
     "execution_count": 168,
     "metadata": {},
     "output_type": "execute_result"
    },
    {
     "data": {
      "image/png": "[encoded data removed]",
      "text/plain": [
       "<Figure size 640x480 with 1 Axes>"
      ]
     },
     "metadata": {},
     "output_type": "display_data"
    }
   ],
   "source": [
    "plt.plot(day_new,scaler.inverse_transform(df1[lendf1-n_steps:]))\n",
    "plt.plot(day_pred,scaler.inverse_transform(lst_output))"
   ]
  },
  {
   "cell_type": "code",
   "execution_count": 180,
   "id": "c4eea3b7",
   "metadata": {},
   "outputs": [
    {
     "data": {
      "text/plain": [
       "[<matplotlib.lines.Line2D at 0x2069e87c500>]"
      ]
     },
     "execution_count": 180,
     "metadata": {},
     "output_type": "execute_result"
    },
    {
     "data": {
      "image/png": "[encoded data removed]",
      "text/plain": [
       "<Figure size 640x480 with 1 Axes>"
      ]
     },
     "metadata": {},
     "output_type": "display_data"
    }
   ],
   "source": [
    "df3=df1.tolist()\n",
    "df3.extend(lst_output)\n",
    "plt.plot(df3[4000:])"
   ]
  },
  {
   "cell_type": "code",
   "execution_count": 181,
   "id": "8df063b2",
   "metadata": {},
   "outputs": [],
   "source": [
    "df3=scaler.inverse_transform(df3).tolist()"
   ]
  },
  {
   "cell_type": "code",
   "execution_count": 189,
   "id": "dbbedff8",
   "metadata": {},
   "outputs": [
    {
     "data": {
      "application/vnd.plotly.v1+json": {
       "config": {
        "plotlyServerURL": "https://plot.ly"
       },
       "data": [
        {
         "hovertemplate": "variable=0<br>index=%{x}<br>value=%{y}<extra></extra>",
         "legendgroup": "0",
         "line": {
          "color": "#636efa",
          "dash": "solid"
         },
         "marker": {
          "symbol": "circle"
         },
         "mode": "lines",
         "name": "0",
         "showlegend": true,
         "type": "scattergl",
         "x": {
          "bdata": "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",
          "dtype": "i2"
         },
         "xaxis": "x",
         "y": {
          "bdata": "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",
          "dtype": "f8"
         },
         "yaxis": "y"
        }
       ],
       "layout": {
        "legend": {
         "title": {
          "text": "variable"
         },
         "tracegroupgap": 0
        },
        "template": {
         "data": {
          "bar": [
           {
            "error_x": {
             "color": "#2a3f5f"
            },
            "error_y": {
             "color": "#2a3f5f"
            },
            "marker": {
             "line": {
              "color": "#E5ECF6",
              "width": 0.5
             },
             "pattern": {
              "fillmode": "overlay",
              "size": 10,
              "solidity": 0.2
             }
            },
            "type": "bar"
           }
          ],
          "barpolar": [
           {
            "marker": {
             "line": {
              "color": "#E5ECF6",
              "width": 0.5
             },
             "pattern": {
              "fillmode": "overlay",
              "size": 10,
              "solidity": 0.2
             }
            },
            "type": "barpolar"
           }
          ],
          "carpet": [
           {
            "aaxis": {
             "endlinecolor": "#2a3f5f",
             "gridcolor": "white",
             "linecolor": "white",
             "minorgridcolor": "white",
             "startlinecolor": "#2a3f5f"
            },
            "baxis": {
             "endlinecolor": "#2a3f5f",
             "gridcolor": "white",
             "linecolor": "white",
             "minorgridcolor": "white",
             "startlinecolor": "#2a3f5f"
            },
            "type": "carpet"
           }
          ],
          "choropleth": [
           {
            "colorbar": {
             "outlinewidth": 0,
             "ticks": ""
            },
            "type": "choropleth"
           }
          ],
          "contour": [
           {
            "colorbar": {
             "outlinewidth": 0,
             "ticks": ""
            },
            "colorscale": [
             [
              0,
              "#0d0887"
             ],
             [
              0.1111111111111111,
              "#46039f"
             ],
             [
              0.2222222222222222,
              "#7201a8"
             ],
             [
              0.3333333333333333,
              "#9c179e"
             ],
             [
              0.4444444444444444,
              "#bd3786"
             ],
             [
              0.5555555555555556,
              "#d8576b"
             ],
             [
              0.6666666666666666,
              "#ed7953"
             ],
             [
              0.7777777777777778,
              "#fb9f3a"
             ],
             [
              0.8888888888888888,
              "#fdca26"
             ],
             [
              1,
              "#f0f921"
             ]
            ],
            "type": "contour"
           }
          ],
          "contourcarpet": [
           {
            "colorbar": {
             "outlinewidth": 0,
             "ticks": ""
            },
            "type": "contourcarpet"
           }
          ],
          "heatmap": [
           {
            "colorbar": {
             "outlinewidth": 0,
             "ticks": ""
            },
            "colorscale": [
             [
              0,
              "#0d0887"
             ],
             [
              0.1111111111111111,
              "#46039f"
             ],
             [
              0.2222222222222222,
              "#7201a8"
             ],
             [
              0.3333333333333333,
              "#9c179e"
             ],
             [
              0.4444444444444444,
              "#bd3786"
             ],
             [
              0.5555555555555556,
              "#d8576b"
             ],
             [
              0.6666666666666666,
              "#ed7953"
             ],
             [
              0.7777777777777778,
              "#fb9f3a"
             ],
             [
              0.8888888888888888,
              "#fdca26"
             ],
             [
              1,
              "#f0f921"
             ]
            ],
            "type": "heatmap"
           }
          ],
          "histogram": [
           {
            "marker": {
             "pattern": {
              "fillmode": "overlay",
              "size": 10,
              "solidity": 0.2
             }
            },
            "type": "histogram"
           }
          ],
          "histogram2d": [
           {
            "colorbar": {
             "outlinewidth": 0,
             "ticks": ""
            },
            "colorscale": [
             [
              0,
              "#0d0887"
             ],
             [
              0.1111111111111111,
              "#46039f"
             ],
             [
              0.2222222222222222,
              "#7201a8"
             ],
             [
              0.3333333333333333,
              "#9c179e"
             ],
             [
              0.4444444444444444,
              "#bd3786"
             ],
             [
              0.5555555555555556,
              "#d8576b"
             ],
             [
              0.6666666666666666,
              "#ed7953"
             ],
             [
              0.7777777777777778,
              "#fb9f3a"
             ],
             [
              0.8888888888888888,
              "#fdca26"
             ],
             [
              1,
              "#f0f921"
             ]
            ],
            "type": "histogram2d"
           }
          ],
          "histogram2dcontour": [
           {
            "colorbar": {
             "outlinewidth": 0,
             "ticks": ""
            },
            "colorscale": [
             [
              0,
              "#0d0887"
             ],
             [
              0.1111111111111111,
              "#46039f"
             ],
             [
              0.2222222222222222,
              "#7201a8"
             ],
             [
              0.3333333333333333,
              "#9c179e"
             ],
             [
              0.4444444444444444,
              "#bd3786"
             ],
             [
              0.5555555555555556,
              "#d8576b"
             ],
             [
              0.6666666666666666,
              "#ed7953"
             ],
             [
              0.7777777777777778,
              "#fb9f3a"
             ],
             [
              0.8888888888888888,
              "#fdca26"
             ],
             [
              1,
              "#f0f921"
             ]
            ],
            "type": "histogram2dcontour"
           }
          ],
          "mesh3d": [
           {
            "colorbar": {
             "outlinewidth": 0,
             "ticks": ""
            },
            "type": "mesh3d"
           }
          ],
          "parcoords": [
           {
            "line": {
             "colorbar": {
              "outlinewidth": 0,
              "ticks": ""
             }
            },
            "type": "parcoords"
           }
          ],
          "pie": [
           {
            "automargin": true,
            "type": "pie"
           }
          ],
          "scatter": [
           {
            "fillpattern": {
             "fillmode": "overlay",
             "size": 10,
             "solidity": 0.2
            },
            "type": "scatter"
           }
          ],
          "scatter3d": [
           {
            "line": {
             "colorbar": {
              "outlinewidth": 0,
              "ticks": ""
             }
            },
            "marker": {
             "colorbar": {
              "outlinewidth": 0,
              "ticks": ""
             }
            },
            "type": "scatter3d"
           }
          ],
          "scattercarpet": [
           {
            "marker": {
             "colorbar": {
              "outlinewidth": 0,
              "ticks": ""
             }
            },
            "type": "scattercarpet"
           }
          ],
          "scattergeo": [
           {
            "marker": {
             "colorbar": {
              "outlinewidth": 0,
              "ticks": ""
             }
            },
            "type": "scattergeo"
           }
          ],
          "scattergl": [
           {
            "marker": {
             "colorbar": {
              "outlinewidth": 0,
              "ticks": ""
             }
            },
            "type": "scattergl"
           }
          ],
          "scattermap": [
           {
            "marker": {
             "colorbar": {
              "outlinewidth": 0,
              "ticks": ""
             }
            },
            "type": "scattermap"
           }
          ],
          "scattermapbox": [
           {
            "marker": {
             "colorbar": {
              "outlinewidth": 0,
              "ticks": ""
             }
            },
            "type": "scattermapbox"
           }
          ],
          "scatterpolar": [
           {
            "marker": {
             "colorbar": {
              "outlinewidth": 0,
              "ticks": ""
             }
            },
            "type": "scatterpolar"
           }
          ],
          "scatterpolargl": [
           {
            "marker": {
             "colorbar": {
              "outlinewidth": 0,
              "ticks": ""
             }
            },
            "type": "scatterpolargl"
           }
          ],
          "scatterternary": [
           {
            "marker": {
             "colorbar": {
              "outlinewidth": 0,
              "ticks": ""
             }
            },
            "type": "scatterternary"
           }
          ],
          "surface": [
           {
            "colorbar": {
             "outlinewidth": 0,
             "ticks": ""
            },
            "colorscale": [
             [
              0,
              "#0d0887"
             ],
             [
              0.1111111111111111,
              "#46039f"
             ],
             [
              0.2222222222222222,
              "#7201a8"
             ],
             [
              0.3333333333333333,
              "#9c179e"
             ],
             [
              0.4444444444444444,
              "#bd3786"
             ],
             [
              0.5555555555555556,
              "#d8576b"
             ],
             [
              0.6666666666666666,
              "#ed7953"
             ],
             [
              0.7777777777777778,
              "#fb9f3a"
             ],
             [
              0.8888888888888888,
              "#fdca26"
             ],
             [
              1,
              "#f0f921"
             ]
            ],
            "type": "surface"
           }
          ],
          "table": [
           {
            "cells": {
             "fill": {
              "color": "#EBF0F8"
             },
             "line": {
              "color": "white"
             }
            },
            "header": {
             "fill": {
              "color": "#C8D4E3"
             },
             "line": {
              "color": "white"
             }
            },
            "type": "table"
           }
          ]
         },
         "layout": {
          "annotationdefaults": {
           "arrowcolor": "#2a3f5f",
           "arrowhead": 0,
           "arrowwidth": 1
          },
          "autotypenumbers": "strict",
          "coloraxis": {
           "colorbar": {
            "outlinewidth": 0,
            "ticks": ""
           }
          },
          "colorscale": {
           "diverging": [
            [
             0,
             "#8e0152"
            ],
            [
             0.1,
             "#c51b7d"
            ],
            [
             0.2,
             "#de77ae"
            ],
            [
             0.3,
             "#f1b6da"
            ],
            [
             0.4,
             "#fde0ef"
            ],
            [
             0.5,
             "#f7f7f7"
            ],
            [
             0.6,
             "#e6f5d0"
            ],
            [
             0.7,
             "#b8e186"
            ],
            [
             0.8,
             "#7fbc41"
            ],
            [
             0.9,
             "#4d9221"
            ],
            [
             1,
             "#276419"
            ]
           ],
           "sequential": [
            [
             0,
             "#0d0887"
            ],
            [
             0.1111111111111111,
             "#46039f"
            ],
            [
             0.2222222222222222,
             "#7201a8"
            ],
            [
             0.3333333333333333,
             "#9c179e"
            ],
            [
             0.4444444444444444,
             "#bd3786"
            ],
            [
             0.5555555555555556,
             "#d8576b"
            ],
            [
             0.6666666666666666,
             "#ed7953"
            ],
            [
             0.7777777777777778,
             "#fb9f3a"
            ],
            [
             0.8888888888888888,
             "#fdca26"
            ],
            [
             1,
             "#f0f921"
            ]
           ],
           "sequentialminus": [
            [
             0,
             "#0d0887"
            ],
            [
             0.1111111111111111,
             "#46039f"
            ],
            [
             0.2222222222222222,
             "#7201a8"
            ],
            [
             0.3333333333333333,
             "#9c179e"
            ],
            [
             0.4444444444444444,
             "#bd3786"
            ],
            [
             0.5555555555555556,
             "#d8576b"
            ],
            [
             0.6666666666666666,
             "#ed7953"
            ],
            [
             0.7777777777777778,
             "#fb9f3a"
            ],
            [
             0.8888888888888888,
             "#fdca26"
            ],
            [
             1,
             "#f0f921"
            ]
           ]
          },
          "colorway": [
           "#636efa",
           "#EF553B",
           "#00cc96",
           "#ab63fa",
           "#FFA15A",
           "#19d3f3",
           "#FF6692",
           "#B6E880",
           "#FF97FF",
           "#FECB52"
          ],
          "font": {
           "color": "#2a3f5f"
          },
          "geo": {
           "bgcolor": "white",
           "lakecolor": "white",
           "landcolor": "#E5ECF6",
           "showlakes": true,
           "showland": true,
           "subunitcolor": "white"
          },
          "hoverlabel": {
           "align": "left"
          },
          "hovermode": "closest",
          "mapbox": {
           "style": "light"
          },
          "paper_bgcolor": "white",
          "plot_bgcolor": "#E5ECF6",
          "polar": {
           "angularaxis": {
            "gridcolor": "white",
            "linecolor": "white",
            "ticks": ""
           },
           "bgcolor": "#E5ECF6",
           "radialaxis": {
            "gridcolor": "white",
            "linecolor": "white",
            "ticks": ""
           }
          },
          "scene": {
           "xaxis": {
            "backgroundcolor": "#E5ECF6",
            "gridcolor": "white",
            "gridwidth": 2,
            "linecolor": "white",
            "showbackground": true,
            "ticks": "",
            "zerolinecolor": "white"
           },
           "yaxis": {
            "backgroundcolor": "#E5ECF6",
            "gridcolor": "white",
            "gridwidth": 2,
            "linecolor": "white",
            "showbackground": true,
            "ticks": "",
            "zerolinecolor": "white"
           },
           "zaxis": {
            "backgroundcolor": "#E5ECF6",
            "gridcolor": "white",
            "gridwidth": 2,
            "linecolor": "white",
            "showbackground": true,
            "ticks": "",
            "zerolinecolor": "white"
           }
          },
          "shapedefaults": {
           "line": {
            "color": "#2a3f5f"
           }
          },
          "ternary": {
           "aaxis": {
            "gridcolor": "white",
            "linecolor": "white",
            "ticks": ""
           },
           "baxis": {
            "gridcolor": "white",
            "linecolor": "white",
            "ticks": ""
           },
           "bgcolor": "#E5ECF6",
           "caxis": {
            "gridcolor": "white",
            "linecolor": "white",
            "ticks": ""
           }
          },
          "title": {
           "x": 0.05
          },
          "xaxis": {
           "automargin": true,
           "gridcolor": "white",
           "linecolor": "white",
           "ticks": "",
           "title": {
            "standoff": 15
           },
           "zerolinecolor": "white",
           "zerolinewidth": 2
          },
          "yaxis": {
           "automargin": true,
           "gridcolor": "white",
           "linecolor": "white",
           "ticks": "",
           "title": {
            "standoff": 15
           },
           "zerolinecolor": "white",
           "zerolinewidth": 2
          }
         }
        },
        "title": {
         "text": "Predicted Stock Price"
        },
        "xaxis": {
         "anchor": "y",
         "domain": [
          0,
          1
         ],
         "title": {
          "text": "index"
         }
        },
        "yaxis": {
         "anchor": "x",
         "domain": [
          0,
          1
         ],
         "title": {
          "text": "value"
         }
        }
       }
      }
     },
     "metadata": {},
     "output_type": "display_data"
    }
   ],
   "source": [
    "import plotly.express as px\n",
    "px.line(data_frame=df3[4000:], title='Predicted Stock Price')\n",
    "\n",
    "# plt.plot(df3[4000:])"
   ]
  },
  {
   "cell_type": "code",
   "execution_count": null,
   "id": "648b349f",
   "metadata": {},
   "outputs": [],
   "source": []
  }
 ],
 "metadata": {
  "kernelspec": {
   "display_name": "Python 3",
   "language": "python",
   "name": "python3"
  },
  "language_info": {
   "codemirror_mode": {
    "name": "ipython",
    "version": 3
   },
   "file_extension": ".py",
   "mimetype": "text/x-python",
   "name": "python",
   "nbconvert_exporter": "python",
   "pygments_lexer": "ipython3",
   "version": "3.12.7"
  }
 },
 "nbformat": 4,
 "nbformat_minor": 5
}
