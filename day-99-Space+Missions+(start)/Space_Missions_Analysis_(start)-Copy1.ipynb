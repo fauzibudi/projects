{
 "cells": [
  {
   "cell_type": "markdown",
   "metadata": {
    "id": "ka_FkvXBiABo"
   },
   "source": [
    "# Introduction"
   ]
  },
  {
   "cell_type": "markdown",
   "metadata": {
    "id": "AWaMmfxXa-p0",
    "papermill": {
     "duration": 0.035434,
     "end_time": "2020-10-20T21:34:01.886225",
     "exception": false,
     "start_time": "2020-10-20T21:34:01.850791",
     "status": "completed"
    },
    "tags": []
   },
   "source": [
    "This dataset was scraped from [nextspaceflight.com](https://nextspaceflight.com/launches/past/?page=1) and includes all the space missions since the beginning of Space Race between the USA and the Soviet Union in 1957!"
   ]
  },
  {
   "cell_type": "markdown",
   "metadata": {
    "id": "ufzKRKS3bV0r"
   },
   "source": [
    "### Install Package with Country Codes"
   ]
  },
  {
   "cell_type": "code",
   "execution_count": null,
   "metadata": {
    "colab": {
     "base_uri": "https://localhost:8080/"
    },
    "id": "0HxV9o6dbRUE",
    "outputId": "35464d43-d601-4b8f-81fd-6dbd400167f5"
   },
   "outputs": [],
   "source": [
    "# !pip install iso3166"
   ]
  },
  {
   "cell_type": "markdown",
   "metadata": {
    "id": "sghkhFoLbof8"
   },
   "source": [
    "### Upgrade Plotly\n",
    "\n",
    "Run the cell below if you are working with Google Colab."
   ]
  },
  {
   "cell_type": "code",
   "execution_count": null,
   "metadata": {
    "colab": {
     "base_uri": "https://localhost:8080/"
    },
    "id": "gQ61wy9gbmxd",
    "outputId": "99185d87-acb8-4237-c0f7-bfb18bfd4d39"
   },
   "outputs": [],
   "source": [
    "# %pip install --upgrade plotly"
   ]
  },
  {
   "cell_type": "markdown",
   "metadata": {
    "id": "ErFDBihUi1jN"
   },
   "source": [
    "### Import Statements"
   ]
  },
  {
   "cell_type": "code",
   "execution_count": null,
   "metadata": {
    "_cell_guid": "b1076dfc-b9ad-4769-8c92-a6c4dae69d19",
    "_kg_hide-input": true,
    "_kg_hide-output": true,
    "_uuid": "8f2839f25d086af736a60e9eeb907d3b93b6e0e5",
    "colab": {
     "base_uri": "https://localhost:8080/"
    },
    "id": "xdolY0-Sa-p1",
    "outputId": "7142dedb-82e9-457d-db44-cea4e121bdfe",
    "papermill": {
     "duration": 1.665326,
     "end_time": "2020-10-20T21:34:03.726995",
     "exception": false,
     "start_time": "2020-10-20T21:34:02.061669",
     "status": "completed"
    },
    "tags": []
   },
   "outputs": [],
   "source": [
    "import numpy as np\n",
    "import pandas as pd\n",
    "import plotly.express as px\n",
    "import matplotlib.pyplot as plt\n",
    "import seaborn as sns\n",
    "\n",
    "# These might be helpful:\n",
    "from iso3166 import countries_by_name\n",
    "from datetime import datetime, timedelta\n",
    "import warnings\n",
    "\n",
    "warnings.simplefilter(action=\"ignore\", category=FutureWarning)\n",
    "warnings.simplefilter(action=\"ignore\", category=pd.errors.SettingWithCopyWarning)"
   ]
  },
  {
   "cell_type": "markdown",
   "metadata": {
    "id": "lovGPRgKxIgo"
   },
   "source": [
    "### Notebook Presentation"
   ]
  },
  {
   "cell_type": "code",
   "execution_count": null,
   "metadata": {
    "id": "DHEULCOjxIIm"
   },
   "outputs": [],
   "source": [
    "pd.options.display.float_format = '{:,.2f}'.format"
   ]
  },
  {
   "cell_type": "markdown",
   "metadata": {
    "id": "yaT3QbjEa-p4",
    "papermill": {
     "duration": 0.034606,
     "end_time": "2020-10-20T21:34:03.798396",
     "exception": false,
     "start_time": "2020-10-20T21:34:03.763790",
     "status": "completed"
    },
    "tags": []
   },
   "source": [
    "### Load the Data"
   ]
  },
  {
   "cell_type": "code",
   "execution_count": null,
   "metadata": {
    "_cell_guid": "79c7e3d0-c299-4dcb-8224-4455121ee9b0",
    "_kg_hide-input": true,
    "_uuid": "d629ff2d2480ee46fbb7e2d37f6b5fab8052498a",
    "id": "0lDOu8aka-p4",
    "papermill": {
     "duration": 0.08876,
     "end_time": "2020-10-20T21:34:03.922028",
     "exception": false,
     "start_time": "2020-10-20T21:34:03.833268",
     "status": "completed"
    },
    "tags": []
   },
   "outputs": [],
   "source": [
    "df_data = pd.read_csv('mission_launches_updated.csv')"
   ]
  },
  {
   "cell_type": "markdown",
   "metadata": {
    "id": "jAnMiVcVjuKB"
   },
   "source": [
    "# Preliminary Data Exploration\n",
    "\n",
    "* What is the shape of `df_data`? \n",
    "* How many rows and columns does it have?\n",
    "* What are the column names?\n",
    "* Are there any NaN values or duplicates?"
   ]
  },
  {
   "cell_type": "code",
   "execution_count": null,
   "metadata": {
    "id": "0tIuYcYNlPFQ"
   },
   "outputs": [],
   "source": [
    "df_data"
   ]
  },
  {
   "cell_type": "code",
   "execution_count": null,
   "metadata": {},
   "outputs": [],
   "source": [
    "df_data.isna().sum()"
   ]
  },
  {
   "cell_type": "code",
   "execution_count": null,
   "metadata": {},
   "outputs": [],
   "source": [
    "df_data.columns"
   ]
  },
  {
   "cell_type": "markdown",
   "metadata": {
    "id": "KUN30y6ja-p9",
    "papermill": {
     "duration": 0.05406,
     "end_time": "2020-10-20T21:34:04.149973",
     "exception": false,
     "start_time": "2020-10-20T21:34:04.095913",
     "status": "completed"
    },
    "tags": []
   },
   "source": [
    "## Data Cleaning - Check for Missing Values and Duplicates\n",
    "\n",
    "Consider removing columns containing junk data. "
   ]
  },
  {
   "cell_type": "code",
   "execution_count": null,
   "metadata": {},
   "outputs": [],
   "source": [
    "df_data.duplicated().sum()"
   ]
  },
  {
   "cell_type": "code",
   "execution_count": null,
   "metadata": {},
   "outputs": [],
   "source": [
    "# merubah kolom datetime ke format date\n",
    "dates = []\n",
    "for date in df_data.Datetime: \n",
    "  split = date.split(\" \")\n",
    "  dt = f'{split[0]} {split[1]} {split[2]} {split[3]}'\n",
    "  try:\n",
    "    d = datetime.strptime(dt, \"%a %b %d, %Y\")\n",
    "  except ValueError as e: \n",
    "    d = datetime.strptime(date, \"%a %b %d, %Y\")\n",
    "  finally:\n",
    "    dates.append(d)\n",
    "df_data.Datetime = dates\n",
    "df_data.dtypes"
   ]
  },
  {
   "cell_type": "code",
   "execution_count": null,
   "metadata": {},
   "outputs": [],
   "source": [
    "df_data[\"Year\"] = df_data[\"Datetime\"].dt.year"
   ]
  },
  {
   "cell_type": "code",
   "execution_count": null,
   "metadata": {},
   "outputs": [],
   "source": [
    "df_data['Price'] = pd.to_numeric(df_data['Price'], errors='coerce')"
   ]
  },
  {
   "cell_type": "code",
   "execution_count": null,
   "metadata": {},
   "outputs": [],
   "source": [
    "#deal with NaN data\n",
    "df_data['Price'] = df_data.groupby('Organisation')['Price'].transform(lambda x: x.fillna(x.mean()))\n",
    "df_data['Price'] = df_data.groupby('Year')['Price'].transform(lambda x: x.fillna(x.mean()))"
   ]
  },
  {
   "cell_type": "code",
   "execution_count": null,
   "metadata": {},
   "outputs": [],
   "source": [
    "df_data.drop(columns=['Unnamed: 0'], inplace=True)"
   ]
  },
  {
   "cell_type": "markdown",
   "metadata": {
    "id": "QHon_T5sa-p_",
    "papermill": {
     "duration": 0.036712,
     "end_time": "2020-10-20T21:34:05.227032",
     "exception": false,
     "start_time": "2020-10-20T21:34:05.190320",
     "status": "completed"
    },
    "tags": []
   },
   "source": [
    "## Descriptive Statistics"
   ]
  },
  {
   "cell_type": "code",
   "execution_count": null,
   "metadata": {
    "id": "Fh1-libjkJIK"
   },
   "outputs": [],
   "source": [
    "df_data.describe()"
   ]
  },
  {
   "cell_type": "code",
   "execution_count": null,
   "metadata": {
    "id": "dGZa5HdbkJBT"
   },
   "outputs": [],
   "source": [
    "df_data.info()"
   ]
  },
  {
   "cell_type": "code",
   "execution_count": null,
   "metadata": {},
   "outputs": [],
   "source": [
    "df_data.isna().any()"
   ]
  },
  {
   "cell_type": "markdown",
   "metadata": {
    "id": "cgCjcpeUkKPW"
   },
   "source": [
    "# Number of Launches per Company\n",
    "\n",
    "Create a chart that shows the number of space mission launches by organisation."
   ]
  },
  {
   "cell_type": "code",
   "execution_count": null,
   "metadata": {
    "id": "rxvcIrtskxYB"
   },
   "outputs": [],
   "source": [
    "organisation_launches=df_data['Organisation'].value_counts().sort_values(ascending=False)[:20]\n",
    "organisation_launches"
   ]
  },
  {
   "cell_type": "code",
   "execution_count": null,
   "metadata": {},
   "outputs": [],
   "source": [
    "fig = px.bar(\n",
    "    x=organisation_launches.index, \n",
    "    y=organisation_launches.values, \n",
    "    title=\"Number of Launches per Organization\",\n",
    "    labels={\"Organization\": organisation_launches.index, \"Launches\": organisation_launches.values},\n",
    "    color=organisation_launches.values,  # Menggunakan warna berdasarkan jumlah peluncuran\n",
    "    text=organisation_launches.values  # Menambahkan nilai angka pada setiap bar\n",
    ")\n",
    "# Menambahkan rotasi pada label sumbu x\n",
    "fig.update_layout(xaxis_tickangle=45,\n",
    "                 width=800,\n",
    "                 height=600)\n",
    "\n",
    "# Menampilkan grafik\n",
    "fig.show()"
   ]
  },
  {
   "cell_type": "markdown",
   "metadata": {
    "id": "7Gwteht2kR_h"
   },
   "source": [
    "# Number of Active versus Retired Rockets\n",
    "\n",
    "How many rockets are active compared to those that are decomissioned? "
   ]
  },
  {
   "cell_type": "code",
   "execution_count": null,
   "metadata": {
    "id": "SxmOWS9cmTq6"
   },
   "outputs": [],
   "source": [
    "active_retire=df_data['Status'].value_counts()\n",
    "active_retire"
   ]
  },
  {
   "cell_type": "code",
   "execution_count": null,
   "metadata": {
    "id": "ydj0-OZ6mToH"
   },
   "outputs": [],
   "source": [
    "fig = px.pie(\n",
    "    values=active_retire.values,\n",
    "    names=active_retire.index,\n",
    "    title=\"Rocket Status Distribution\",\n",
    "    color_discrete_sequence=px.colors.qualitative.Pastel\n",
    ")\n",
    "\n",
    "# Menampilkan grafik\n",
    "fig.show()"
   ]
  },
  {
   "cell_type": "markdown",
   "metadata": {
    "id": "y9WtP5xWkYkp"
   },
   "source": [
    "# Distribution of Mission Status\n",
    "\n",
    "How many missions were successful?\n",
    "How many missions failed?"
   ]
  },
  {
   "cell_type": "code",
   "execution_count": null,
   "metadata": {
    "id": "83kY1alqmUhb"
   },
   "outputs": [],
   "source": [
    "mission_status=df_data['Mission_status'].value_counts()\n",
    "mission_status"
   ]
  },
  {
   "cell_type": "code",
   "execution_count": null,
   "metadata": {
    "id": "bdmXcaopmUeZ"
   },
   "outputs": [],
   "source": [
    "fig = px.bar(\n",
    "    y=mission_status.values,\n",
    "    x=mission_status.index,\n",
    "    title=\"Mission Status Distribution\",\n",
    "    color_discrete_sequence=px.colors.qualitative.Pastel,\n",
    "    color=mission_status.index\n",
    ")\n",
    "fig.update_layout(showlegend=False)\n",
    "# Menampilkan grafik\n",
    "fig.show()"
   ]
  },
  {
   "cell_type": "markdown",
   "metadata": {
    "id": "jgTCihuoa-qH",
    "papermill": {
     "duration": 0.03854,
     "end_time": "2020-10-20T21:34:05.968626",
     "exception": false,
     "start_time": "2020-10-20T21:34:05.930086",
     "status": "completed"
    },
    "tags": []
   },
   "source": [
    "# How Expensive are the Launches? \n",
    "\n",
    "Create a histogram and visualise the distribution. The price column is given in USD millions (careful of missing values). "
   ]
  },
  {
   "cell_type": "code",
   "execution_count": null,
   "metadata": {
    "id": "PLOMhzZFnSCO"
   },
   "outputs": [],
   "source": [
    "# Membuat histogram dengan kurva KDE\n",
    "plt.figure(figsize=(8, 6))\n",
    "sns.histplot(df_data[\"Price\"], kde=True, bins=30, color=\"red\")\n",
    "\n",
    "# Menambahkan label dan judul\n",
    "plt.title(\"Distribution of Price\", fontsize=16)\n",
    "plt.xlabel(\"Price Range\", fontsize=12)\n",
    "plt.ylabel(\"Frequency\", fontsize=12)\n",
    "\n",
    "# Menampilkan grafik\n",
    "plt.show()"
   ]
  },
  {
   "cell_type": "markdown",
   "metadata": {
    "id": "QiNtigQDne3E"
   },
   "source": [
    "# Use a Choropleth Map to Show the Number of Launches by Country\n",
    "\n",
    "* Create a choropleth map using [the plotly documentation](https://plotly.com/python/choropleth-maps/)\n",
    "* Experiment with [plotly's available colours](https://plotly.com/python/builtin-colorscales/). I quite like the sequential colour `matter` on this map. \n",
    "* You'll need to extract a `country` feature as well as change the country names that no longer exist.\n",
    "\n",
    "Wrangle the Country Names\n",
    "\n",
    "You'll need to use a 3 letter country code for each country. You might have to change some country names.\n",
    "\n",
    "* Russia is the Russian Federation\n",
    "* New Mexico should be USA\n",
    "* Yellow Sea refers to China\n",
    "* Shahrud Missile Test Site should be Iran\n",
    "* Pacific Missile Range Facility should be USA\n",
    "* Barents Sea should be Russian Federation\n",
    "* Gran Canaria should be USA\n",
    "\n",
    "\n",
    "You can use the iso3166 package to convert the country names to Alpha3 format."
   ]
  },
  {
   "cell_type": "code",
   "execution_count": null,
   "metadata": {
    "id": "Y46-4GHrozhF",
    "scrolled": true
   },
   "outputs": [],
   "source": [
    "df_data['Location'].unique()"
   ]
  },
  {
   "cell_type": "code",
   "execution_count": null,
   "metadata": {
    "id": "ESGRWiX6ozZG"
   },
   "outputs": [],
   "source": [
    "# Mengambil hanya nama negara dari kolom \"Location\"\n",
    "df_data[\"Country\"] = df_data[\"Location\"].str.split(', ').str[-1]\n",
    "\n",
    "# Menampilkan hasil\n",
    "df_data[[\"Location\", \"Country\"]]"
   ]
  },
  {
   "cell_type": "code",
   "execution_count": null,
   "metadata": {},
   "outputs": [],
   "source": [
    "df_data['Country'].unique()"
   ]
  },
  {
   "cell_type": "code",
   "execution_count": null,
   "metadata": {},
   "outputs": [],
   "source": [
    "# Menangani nama-nama negara yang perlu penyesuaian\n",
    "name_corrections = {\n",
    "    \"Russia\": \"Russian Federation\",\n",
    "    \"New Mexico\": \"USA\",\n",
    "    \"Yellow Sea\": \"China\",\n",
    "    \"Shahrud Missile Test Site\": \"Iran\",\n",
    "    \"Pacific Missile Range Facility\": \"USA\",\n",
    "    \"Barents Sea\": \"Russian Federation\",\n",
    "    \"Gran Canaria\": \"USA\"\n",
    "}\n",
    "\n",
    "df_data[\"Country\"] = df_data[\"Country\"].replace(name_corrections)"
   ]
  },
  {
   "cell_type": "code",
   "execution_count": null,
   "metadata": {},
   "outputs": [],
   "source": [
    "country_launches=df_data['Country'].value_counts()\n",
    "country_launches"
   ]
  },
  {
   "cell_type": "code",
   "execution_count": null,
   "metadata": {},
   "outputs": [],
   "source": [
    "fig = px.choropleth(locations=country_launches.index,\n",
    "                    color=country_launches.values,\n",
    "                    locationmode='country names',\n",
    "                    hover_name=country_launches.index, # column to add to hover information\n",
    "                    color_continuous_scale=px.colors.sequential.matter,\n",
    "                   title='Number of Launches by Country')\n",
    "fig.show()"
   ]
  },
  {
   "cell_type": "markdown",
   "metadata": {
    "id": "F3pwYSUlo_AK"
   },
   "source": [
    "# Use a Choropleth Map to Show the Number of Failures by Country\n"
   ]
  },
  {
   "cell_type": "code",
   "execution_count": null,
   "metadata": {
    "id": "8BH4ICtro9I0",
    "scrolled": true
   },
   "outputs": [],
   "source": [
    "country_launches_status=df_data[['Country', 'Mission_status']].groupby(['Country', 'Mission_status']).value_counts().reset_index()\n",
    "country_launches_status=country_launches_status.sort_values(by='count', ascending=False)\n",
    "country_launches_status"
   ]
  },
  {
   "cell_type": "code",
   "execution_count": null,
   "metadata": {
    "id": "sfw-q7Obo9GM"
   },
   "outputs": [],
   "source": [
    "bar = px.bar(country_launches_status, \n",
    "               x = 'Country',\n",
    "               y = 'count',\n",
    "               title='Country Launches Status', height=800, width=800,\n",
    "               color='Mission_status')\n",
    " \n",
    "bar.update_layout(xaxis_title='COuntry', yaxis_title='Count')\n",
    "bar.update_yaxes(categoryorder='total ascending')\n",
    "bar.show()"
   ]
  },
  {
   "cell_type": "code",
   "execution_count": null,
   "metadata": {
    "scrolled": true
   },
   "outputs": [],
   "source": [
    "#failure launches by country\n",
    "failure_data = df_data[df_data[\"Mission_status\"] == \"Failure\"]\n",
    "failure_launch_country = failure_data.groupby(\"Country\").size().reset_index(name=\"Count\")\n",
    "failure_launch_country"
   ]
  },
  {
   "cell_type": "code",
   "execution_count": null,
   "metadata": {},
   "outputs": [],
   "source": [
    "fig = px.choropleth(failure_launch_country,\n",
    "                    locations='Country',\n",
    "                    color='Count',\n",
    "                    locationmode='country names',\n",
    "                    hover_name='Country', # column to add to hover information\n",
    "                    color_continuous_scale=px.colors.sequential.matter,\n",
    "                   title='Number of Failure Launches by Country')\n",
    "fig.show()"
   ]
  },
  {
   "cell_type": "markdown",
   "metadata": {
    "id": "9LqcqSrKa-qN",
    "papermill": {
     "duration": 0.039343,
     "end_time": "2020-10-20T21:34:06.591694",
     "exception": false,
     "start_time": "2020-10-20T21:34:06.552351",
     "status": "completed"
    },
    "tags": []
   },
   "source": [
    "# Create a Plotly Sunburst Chart of the countries, organisations, and mission status. "
   ]
  },
  {
   "cell_type": "code",
   "execution_count": null,
   "metadata": {
    "id": "MwUfpoByo3_J",
    "scrolled": true
   },
   "outputs": [],
   "source": [
    "country_organisation_status=df_data.groupby(by=['Country', 'Organisation', 'Mission_status']).count()['Datetime'].reset_index()\n",
    "country_organisation_status"
   ]
  },
  {
   "cell_type": "code",
   "execution_count": null,
   "metadata": {
    "id": "-ZwZkx1ro4X9"
   },
   "outputs": [],
   "source": [
    "fig=px.sunburst(country_organisation_status, path=['Country','Organisation', 'Mission_status'],\n",
    "               values='Datetime')\n",
    "fig.show()"
   ]
  },
  {
   "cell_type": "markdown",
   "metadata": {
    "id": "70pG1BCZa-qY",
    "papermill": {
     "duration": 0.062712,
     "end_time": "2020-10-20T21:34:07.951200",
     "exception": false,
     "start_time": "2020-10-20T21:34:07.888488",
     "status": "completed"
    },
    "tags": []
   },
   "source": [
    "# Analyse the Total Amount of Money Spent by Organisation on Space Missions"
   ]
  },
  {
   "cell_type": "code",
   "execution_count": null,
   "metadata": {
    "id": "IaJYxwEVpKHy",
    "scrolled": true
   },
   "outputs": [],
   "source": [
    "grouped_data = df_data[['Organisation', 'Price']].groupby(by='Organisation').sum()\n",
    "filtered_data = grouped_data[grouped_data['Price'] != 0].sort_values(by='Price', ascending=False)[:20].reset_index()\n",
    "filtered_data"
   ]
  },
  {
   "cell_type": "code",
   "execution_count": null,
   "metadata": {
    "id": "orIFf-appPDL"
   },
   "outputs": [],
   "source": [
    "bar = px.bar(filtered_data, \n",
    "            x = 'Price',\n",
    "            y = 'Organisation',\n",
    "             orientation='h',\n",
    "            title = 'Total Amount of Money Spent by Organisation')\n",
    " \n",
    "bar.update_layout(xaxis_title='Count (*10⁶ $)', yaxis_title='Organisation')\n",
    "bar.update_yaxes(categoryorder='total ascending')\n",
    "bar.show()"
   ]
  },
  {
   "cell_type": "markdown",
   "metadata": {
    "id": "DpsWkPxzpPXs"
   },
   "source": [
    "# Analyse the Amount of Money Spent by Organisation per Launch"
   ]
  },
  {
   "cell_type": "code",
   "execution_count": null,
   "metadata": {
    "id": "VEkHzAk2pTvj",
    "scrolled": true
   },
   "outputs": [],
   "source": [
    "grouped_data = df_data[['Organisation', 'Price']].groupby(by='Organisation').mean()\n",
    "grouped_data = grouped_data.sort_values(by='Price', ascending=False)[:20].reset_index()\n",
    "grouped_data"
   ]
  },
  {
   "cell_type": "code",
   "execution_count": null,
   "metadata": {
    "id": "R5rFf501pKXD"
   },
   "outputs": [],
   "source": [
    "bar = px.bar(grouped_data, \n",
    "            x = 'Price',\n",
    "            y = 'Organisation',\n",
    "             orientation='h',\n",
    "            title = 'Amount of Money Spent by Organisation per Launch')\n",
    " \n",
    "bar.update_layout(xaxis_title='Mean (*10⁶ $)', yaxis_title='Organisation')\n",
    "bar.update_yaxes(categoryorder='total ascending')\n",
    "bar.show()"
   ]
  },
  {
   "cell_type": "markdown",
   "metadata": {
    "id": "yRa1BbPoa-qf",
    "papermill": {
     "duration": 0.042662,
     "end_time": "2020-10-20T21:34:09.943196",
     "exception": false,
     "start_time": "2020-10-20T21:34:09.900534",
     "status": "completed"
    },
    "tags": []
   },
   "source": [
    "# Chart the Number of Launches per Year"
   ]
  },
  {
   "cell_type": "code",
   "execution_count": null,
   "metadata": {
    "id": "b2pggcZBpb4x",
    "scrolled": true
   },
   "outputs": [],
   "source": [
    "launches_per_year = df_data.groupby(\"Year\").size().reset_index(name=\"Count\")\n",
    "\n",
    "filtered_data_year = launches_per_year[launches_per_year[\"Year\"] != 2023]\n",
    "filtered_data_year"
   ]
  },
  {
   "cell_type": "code",
   "execution_count": null,
   "metadata": {},
   "outputs": [],
   "source": [
    "fig = px.line(\n",
    "    filtered_data_year,\n",
    "    x=\"Year\", \n",
    "    y=\"Count\",  \n",
    "    title=\"Number of Launches per Year\",\n",
    "    labels={\"Year\": \"Year\", \"Count\": \"Count\"},\n",
    "    markers=True  \n",
    ")\n",
    "\n",
    "# Menyesuaikan tata letak\n",
    "fig.update_layout(\n",
    "    xaxis_title=\"Year\",\n",
    "    yaxis_title=\"Number of Launches\",\n",
    "    xaxis=dict(dtick=10)  \n",
    ")\n",
    "\n",
    "fig.show()"
   ]
  },
  {
   "cell_type": "markdown",
   "metadata": {
    "id": "NomJVLi3tIaM"
   },
   "source": [
    "# Chart the Number of Launches Month-on-Month until the Present\n",
    "\n",
    "Which month has seen the highest number of launches in all time? Superimpose a rolling average on the month on month time series chart. "
   ]
  },
  {
   "cell_type": "code",
   "execution_count": null,
   "metadata": {
    "id": "pfw0aX1lpdRv"
   },
   "outputs": [],
   "source": [
    "#grouping month\n",
    "df_data[\"Month\"] = df_data[\"Datetime\"].dt.to_period(\"M\") \n",
    "launches_per_month = df_data.groupby(\"Month\").size().reset_index(name=\"Launch Count\")\n",
    "\n",
    "# convert month to timestamp\n",
    "launches_per_month[\"Month\"] = launches_per_month[\"Month\"].dt.to_timestamp()\n",
    "\n",
    "#rolling average\n",
    "launches_per_month[\"20_Month_MA\"] = launches_per_month[\"Launch Count\"].rolling(window=20).mean()\n",
    "\n",
    "\n",
    "fig = px.line(\n",
    "    launches_per_month,\n",
    "    x=\"Month\",\n",
    "    y=[\"Launch Count\", \"20_Month_MA\"],\n",
    "    title=\"Number of Launches Month-on-Month with 3-Month Rolling Average\",\n",
    "    labels={\"value\": \"Number of Launches\", \"variable\": \"Metric\"}\n",
    ")\n",
    "\n",
    "\n",
    "fig.update_layout(\n",
    "    xaxis_title=\"Month\",\n",
    "    yaxis_title=\"Number of Launches\",\n",
    "    legend_title=\"Metrics\",\n",
    "    xaxis=dict(\n",
    "        tickformat=\"%b %Y\",  \n",
    "        showgrid=True \n",
    "    )\n",
    ")\n",
    "\n",
    "\n",
    "fig.show()"
   ]
  },
  {
   "cell_type": "markdown",
   "metadata": {
    "id": "t-avMIZoa-qh",
    "papermill": {
     "duration": 0.044409,
     "end_time": "2020-10-20T21:34:10.162592",
     "exception": false,
     "start_time": "2020-10-20T21:34:10.118183",
     "status": "completed"
    },
    "tags": []
   },
   "source": [
    "# Launches per Month: Which months are most popular and least popular for launches?\n",
    "\n",
    "Some months have better weather than others. Which time of year seems to be best for space missions?"
   ]
  },
  {
   "cell_type": "code",
   "execution_count": null,
   "metadata": {
    "id": "fnk2m_cpppJo"
   },
   "outputs": [],
   "source": [
    "\n",
    "df_data[\"Datetime\"] = pd.to_datetime(df_data[\"Datetime\"])\n",
    "\n",
    "\n",
    "df_data[\"Month Only\"] = df_data[\"Datetime\"].dt.month\n",
    "\n",
    "\n",
    "print(df_data[[\"Datetime\", \"Month Only\"]])"
   ]
  },
  {
   "cell_type": "code",
   "execution_count": null,
   "metadata": {},
   "outputs": [],
   "source": [
    "df_data['Month Only'].value_counts().sort_values(ascending=False)"
   ]
  },
  {
   "cell_type": "markdown",
   "metadata": {
    "id": "dPQ_N_sfa-qo",
    "papermill": {
     "duration": 0.067915,
     "end_time": "2020-10-20T21:34:11.122539",
     "exception": false,
     "start_time": "2020-10-20T21:34:11.054624",
     "status": "completed"
    },
    "tags": []
   },
   "source": [
    "# How has the Launch Price varied Over Time? \n",
    "\n",
    "Create a line chart that shows the average price of rocket launches over time. "
   ]
  },
  {
   "cell_type": "code",
   "execution_count": null,
   "metadata": {
    "id": "hFc-2M5-qCrv",
    "scrolled": true
   },
   "outputs": [],
   "source": [
    "meanprice_per_date=df_data[['Year', 'Price']].groupby(by='Year').mean().reset_index()[:-1]\n",
    "meanprice_per_date"
   ]
  },
  {
   "cell_type": "code",
   "execution_count": null,
   "metadata": {
    "id": "ggYFiAsEqC6J"
   },
   "outputs": [],
   "source": [
    "\n",
    "plt.figure(figsize=(12, 6))\n",
    "\n",
    "\n",
    "plt.plot(meanprice_per_date['Year'], meanprice_per_date['Price'], linestyle='-', color='blue')\n",
    "\n",
    "\n",
    "plt.xlabel('Datetime')\n",
    "plt.ylabel('Price')\n",
    "plt.title('Price per Date')  \n",
    "plt.grid(True)\n",
    "plt.tight_layout()\n",
    "\n",
    "\n",
    "plt.show()"
   ]
  },
  {
   "cell_type": "markdown",
   "metadata": {
    "id": "8OYrWyiOa-qs",
    "papermill": {
     "duration": 0.047152,
     "end_time": "2020-10-20T21:34:11.681371",
     "exception": false,
     "start_time": "2020-10-20T21:34:11.634219",
     "status": "completed"
    },
    "tags": []
   },
   "source": [
    "# Chart the Number of Launches over Time by the Top 10 Organisations. \n",
    "\n",
    "How has the dominance of launches changed over time between the different players? "
   ]
  },
  {
   "cell_type": "code",
   "execution_count": null,
   "metadata": {
    "id": "RcsrPPpAqVFj"
   },
   "outputs": [],
   "source": [
    "top_10_organisation=df_data['Organisation'].value_counts().sort_values(ascending=False)[:10].index\n",
    "launches_per_year=df_data[['Year', 'Organisation']].groupby(by=['Year', 'Organisation']).size().reset_index(name='Launch Count')\n",
    "launches_per_year"
   ]
  },
  {
   "cell_type": "code",
   "execution_count": null,
   "metadata": {
    "id": "1IgfafiyqWEe"
   },
   "outputs": [],
   "source": [
    "launches_per_year = launches_per_year[launches_per_year['Organisation'].isin(top_10_organisation)]\n",
    "launches_per_year['Cumulative Launch'] = launches_per_year.groupby(by='Organisation')['Launch Count'].cumsum()\n",
    "launches_per_year"
   ]
  },
  {
   "cell_type": "code",
   "execution_count": null,
   "metadata": {
    "id": "akCDKT8CqVjG"
   },
   "outputs": [],
   "source": [
    "l_chart = px.line(launches_per_year,\n",
    "                  x='Year', \n",
    "                  y='Cumulative Launch',\n",
    "                  color='Organisation',\n",
    "                  hover_name='Organisation')\n",
    " \n",
    "l_chart.update_layout(xaxis_title='Year',\n",
    "                      yaxis_title='Cumulative Launch')\n",
    " \n",
    "l_chart.show()"
   ]
  },
  {
   "cell_type": "markdown",
   "metadata": {
    "id": "6Cm8_ch6a-q7",
    "papermill": {
     "duration": 0.052399,
     "end_time": "2020-10-20T21:34:13.756781",
     "exception": false,
     "start_time": "2020-10-20T21:34:13.704382",
     "status": "completed"
    },
    "tags": []
   },
   "source": [
    "# Cold War Space Race: USA vs USSR\n",
    "\n",
    "The cold war lasted from the start of the dataset up until 1991. "
   ]
  },
  {
   "cell_type": "code",
   "execution_count": null,
   "metadata": {
    "id": "AcE_U8csrICL"
   },
   "outputs": [],
   "source": [
    "USSR_count = len(df_data[(df_data['Organisation']=='RVSN USSR') & (df_data['Year'] <= 1991)])\n",
    "USA_count = len(df_data[(df_data['Country']=='USA') & (df_data['Year'] <= 1991)])\n",
    "\n",
    "data = {\n",
    "    \"Country/Organisation\": [\"USA\", \"USSR\"],\n",
    "    \"Launch Count\": [USA_count, USSR_count]\n",
    "}\n",
    "df_pie = pd.DataFrame(data)\n",
    "\n",
    "fig = px.pie(\n",
    "    df_pie,\n",
    "    names=\"Country/Organisation\",  \n",
    "    values=\"Launch Count\",        \n",
    "    title=\"Launch Count Comparison (USA vs USSR) until 1991\"\n",
    ")\n",
    "\n",
    "fig.show()"
   ]
  },
  {
   "cell_type": "markdown",
   "metadata": {
    "id": "Os-3A5vLa-q9",
    "papermill": {
     "duration": 0.054318,
     "end_time": "2020-10-20T21:34:14.089604",
     "exception": false,
     "start_time": "2020-10-20T21:34:14.035286",
     "status": "completed"
    },
    "tags": []
   },
   "source": [
    "## Create a Plotly Pie Chart comparing the total number of launches of the USSR and the USA\n",
    "Hint: Remember to include former Soviet Republics like Kazakhstan when analysing the total number of launches."
   ]
  },
  {
   "cell_type": "code",
   "execution_count": null,
   "metadata": {
    "id": "1irc6_W9rD59"
   },
   "outputs": [],
   "source": [
    "USSR = df_data[\n",
    "    ((df_data['Organisation'] == 'RVSN USSR') | \n",
    "     (df_data['Country'] == 'Russian Federation') | \n",
    "     (df_data['Country'] == 'Kazakhstan')) & \n",
    "    (df_data['Year'] <= 1991)\n",
    "]\n",
    "\n",
    "USA = df_data[(df_data['Country'] == 'USA') & (df_data['Year'] <= 1991)]\n",
    "\n",
    "USSR_count = len(USSR)\n",
    "USA_count = len(USA)\n",
    "\n",
    "data = {\n",
    "    \"Country/Organisation\": [\"USA\", \"USSR\"],\n",
    "    \"Launch Count\": [USA_count, USSR_count]\n",
    "}\n",
    "df_pie = pd.DataFrame(data)\n",
    "\n",
    "fig = px.pie(\n",
    "    df_pie,\n",
    "    names=\"Country/Organisation\",  \n",
    "    values=\"Launch Count\",        \n",
    "    title=\"Total Launch Count Comparison (USA vs USSR)\"\n",
    ")\n",
    "\n",
    "fig.show()"
   ]
  },
  {
   "cell_type": "markdown",
   "metadata": {
    "id": "0C29Zz4xa-rA",
    "papermill": {
     "duration": 0.052921,
     "end_time": "2020-10-20T21:34:14.340085",
     "exception": false,
     "start_time": "2020-10-20T21:34:14.287164",
     "status": "completed"
    },
    "tags": []
   },
   "source": [
    "## Create a Chart that Shows the Total Number of Launches Year-On-Year by the Two Superpowers"
   ]
  },
  {
   "cell_type": "code",
   "execution_count": null,
   "metadata": {
    "id": "oCc7VTzGrTK-"
   },
   "outputs": [],
   "source": [
    "# Number of launches year-on-year for USSR and USA\n",
    "USSR_launches = USSR.groupby('Year').size().reset_index(name='Launch Count')\n",
    "USA_launches = USA.groupby('Year').size().reset_index(name='Launch Count')\n",
    "\n",
    "USSR_launches['Country'] = 'USSR'\n",
    "USA_launches['Country'] = 'USA'\n",
    "\n",
    "combined_launches = pd.concat([USSR_launches, USA_launches])\n",
    "combined_launches"
   ]
  },
  {
   "cell_type": "code",
   "execution_count": null,
   "metadata": {},
   "outputs": [],
   "source": [
    "fig = px.line(\n",
    "    combined_launches,\n",
    "    x='Year',\n",
    "    y='Launch Count',\n",
    "    color='Country',\n",
    "    title='Year-on-Year Total Rocket Launches by USSR and USA',\n",
    "    labels={\n",
    "        'Year': 'Year',\n",
    "        'Launch Count': 'Number of Launches',\n",
    "        'Country': 'Country'\n",
    "    },\n",
    "    markers=True\n",
    ")\n",
    "\n",
    "fig.update_layout(\n",
    "    xaxis_title='Year',\n",
    "    yaxis_title='Number of Launches',\n",
    "    width=1000,\n",
    "    height=600,\n",
    "    xaxis=dict(\n",
    "        dtick=1 \n",
    "    )\n",
    ")\n",
    "\n",
    "fig.show()"
   ]
  },
  {
   "cell_type": "markdown",
   "metadata": {
    "id": "eWv4iZmra-rE",
    "papermill": {
     "duration": 0.079311,
     "end_time": "2020-10-20T21:34:14.933058",
     "exception": false,
     "start_time": "2020-10-20T21:34:14.853747",
     "status": "completed"
    },
    "tags": []
   },
   "source": [
    "## Chart the Total Number of Mission Failures Year on Year."
   ]
  },
  {
   "cell_type": "code",
   "execution_count": null,
   "metadata": {
    "id": "I-Zss5-Mre-4"
   },
   "outputs": [],
   "source": [
    "USSR_failure_count = USSR[USSR['Mission_status']=='Failure'].groupby(by='Year').size().reset_index(name='Failure Count')\n",
    "USA_failure_count = USA[USA['Mission_status']=='Failure'].groupby(by='Year').size().reset_index(name='Failure Count')\n",
    "\n",
    "USSR_failure_count['Country'] = 'USSR'\n",
    "USA_failure_count['Country'] = 'USA'\n",
    "\n",
    "combined_failure_launches = pd.concat([USSR_failure_count, USA_failure_count])\n",
    "combined_failure_launches"
   ]
  },
  {
   "cell_type": "code",
   "execution_count": null,
   "metadata": {
    "id": "7Ps9Iq_crfYl"
   },
   "outputs": [],
   "source": [
    "fig = px.line(\n",
    "    combined_failure_launches,\n",
    "    x='Year',\n",
    "    y='Failure Count',\n",
    "    color='Country',\n",
    "    title='Year-on-Year Total Rocket Failure by USSR and USA',\n",
    "    labels={\n",
    "        'Year': 'Year',\n",
    "        'Failure Count': 'Number of Failure',\n",
    "        'Country': 'Country'\n",
    "    },\n",
    "    markers=True\n",
    ")\n",
    "\n",
    "fig.update_layout(\n",
    "    xaxis_title='Year',\n",
    "    yaxis_title='Number of Failure',\n",
    "    width=1000,\n",
    "    height=600,\n",
    "    xaxis=dict(\n",
    "        dtick=1 \n",
    "    )\n",
    ")\n",
    "\n",
    "fig.show()"
   ]
  },
  {
   "cell_type": "markdown",
   "metadata": {
    "id": "XNp-NkrJriEF"
   },
   "source": [
    "## Chart the Percentage of Failures over Time\n",
    "\n",
    "Did failures go up or down over time? Did the countries get better at minimising risk and improving their chances of success over time? "
   ]
  },
  {
   "cell_type": "code",
   "execution_count": null,
   "metadata": {
    "scrolled": true
   },
   "outputs": [],
   "source": [
    "failure_percent_USA = pd.merge(USA_failure_count, USA_launches, on='Year')\n",
    "failure_percent_USA['Failure Percentage'] = (failure_percent_USA['Failure Count']/failure_percent_USA['Launch Count'])*100\n",
    "failure_percent_USA"
   ]
  },
  {
   "cell_type": "code",
   "execution_count": null,
   "metadata": {
    "scrolled": true
   },
   "outputs": [],
   "source": [
    "failure_percent_USSR = pd.merge(USSR_failure_count, USSR_launches, on='Year')\n",
    "failure_percent_USSR['Failure Percentage'] = (failure_percent_USSR['Failure Count']/failure_percent_USSR['Launch Count'])*100\n",
    "failure_percent_USSR"
   ]
  },
  {
   "cell_type": "code",
   "execution_count": null,
   "metadata": {},
   "outputs": [],
   "source": [
    "combined_failure_percent = pd.concat([failure_percent_USSR, failure_percent_USA])\n",
    "combined_failure_percent"
   ]
  },
  {
   "cell_type": "code",
   "execution_count": null,
   "metadata": {},
   "outputs": [],
   "source": [
    "fig = px.line(\n",
    "    combined_failure_percent,\n",
    "    x='Year',\n",
    "    y='Failure Percentage',\n",
    "    color='Country_x',\n",
    "    title='Year-on-Year Percentage Rocket Failure by USSR and USA',\n",
    "    labels={\n",
    "        'Year': 'Year',\n",
    "        'Failure Percentage': 'Failure Percentage',\n",
    "        'Country': 'Country'\n",
    "    },\n",
    "    markers=True\n",
    ")\n",
    "\n",
    "fig.update_layout(\n",
    "    xaxis_title='Year',\n",
    "    yaxis_title='Failure Percentage',\n",
    "    width=1000,\n",
    "    height=600,\n",
    "    xaxis=dict(\n",
    "        dtick=1 \n",
    "    )\n",
    ")\n",
    "\n",
    "fig.show()"
   ]
  },
  {
   "cell_type": "markdown",
   "metadata": {
    "id": "S5aOC7bGr2OX"
   },
   "source": [
    "# For Every Year Show which Country was in the Lead in terms of Total Number of Launches up to and including 2022)\n",
    "\n",
    "Do the results change if we only look at the number of successful launches? "
   ]
  },
  {
   "cell_type": "code",
   "execution_count": null,
   "metadata": {
    "id": "_h0grIXKsOz_"
   },
   "outputs": [],
   "source": [
    "launches_per_country_year = df_data.groupby(['Year', 'Country']).size().reset_index(name='Launch Count')\n",
    "\n",
    "\n",
    "leader_per_year = launches_per_country_year.loc[\n",
    "    launches_per_country_year.groupby('Year')['Launch Count'].idxmax()\n",
    "][:-1].reset_index(drop=True)\n",
    "\n",
    "\n",
    "leader_per_year"
   ]
  },
  {
   "cell_type": "code",
   "execution_count": null,
   "metadata": {
    "id": "zgVysedmsOp4"
   },
   "outputs": [],
   "source": [
    "fig = px.bar(\n",
    "    leader_per_year,\n",
    "    y=\"Launch Count\",\n",
    "    x=\"Year\",\n",
    "    color=\"Country\",\n",
    "    title=\"Yearly Launch Leaders by Country\"\n",
    ")\n",
    "fig.show()"
   ]
  },
  {
   "cell_type": "markdown",
   "metadata": {
    "id": "jQcqBfJ8serG"
   },
   "source": [
    "# Create a Year-on-Year Chart Showing the Organisation Doing the Most Number of Launches\n",
    "\n",
    "Which organisation was dominant in the 1970s and 1980s? Which organisation was dominant in 2018, 2019 and 2020? "
   ]
  },
  {
   "cell_type": "code",
   "execution_count": null,
   "metadata": {
    "id": "jc9ImQEWsztG"
   },
   "outputs": [],
   "source": [
    "launches_per_org_year = df_data.groupby(['Year', 'Organisation']).size().reset_index(name='Launch Count')\n",
    "\n",
    "# Menemukan organisasi dengan jumlah peluncuran terbanyak untuk setiap tahun\n",
    "top_org_per_year = launches_per_org_year.loc[\n",
    "    launches_per_org_year.groupby('Year')['Launch Count'].idxmax()\n",
    "].reset_index(drop=True)\n",
    "\n",
    "fig = px.bar(\n",
    "    top_org_per_year,\n",
    "    x='Year',\n",
    "    y='Launch Count',\n",
    "    color='Organisation',\n",
    "    title='Year-on-Year Chart of Organisation with Most Launches',\n",
    "    labels={\n",
    "        'Year': 'Year',\n",
    "        'Launch Count': 'Number of Launches',\n",
    "        'Organisation': 'Organisation'\n",
    "    }\n",
    ")\n",
    "\n",
    "fig.update_layout(\n",
    "    xaxis_title='Year',\n",
    "    yaxis_title='Number of Launches' \n",
    ")\n",
    "\n",
    "fig.show()"
   ]
  },
  {
   "cell_type": "code",
   "execution_count": null,
   "metadata": {},
   "outputs": [],
   "source": []
  },
  {
   "cell_type": "code",
   "execution_count": null,
   "metadata": {},
   "outputs": [],
   "source": []
  },
  {
   "cell_type": "code",
   "execution_count": null,
   "metadata": {},
   "outputs": [],
   "source": []
  }
 ],
 "metadata": {
  "colab": {
   "name": "Space Missions Analysis (start).ipynb",
   "provenance": []
  },
  "kernelspec": {
   "display_name": "Python [conda env:base] *",
   "language": "python",
   "name": "conda-base-py"
  },
  "language_info": {
   "codemirror_mode": {
    "name": "ipython",
    "version": 3
   },
   "file_extension": ".py",
   "mimetype": "text/x-python",
   "name": "python",
   "nbconvert_exporter": "python",
   "pygments_lexer": "ipython3",
   "version": "3.12.7"
  },
  "papermill": {
   "duration": 28.468597,
   "end_time": "2020-10-20T21:34:26.910951",
   "environment_variables": {},
   "exception": null,
   "input_path": "__notebook__.ipynb",
   "output_path": "__notebook__.ipynb",
   "parameters": {},
   "start_time": "2020-10-20T21:33:58.442354",
   "version": "2.1.0"
  }
 },
 "nbformat": 4,
 "nbformat_minor": 4
}
